{
 "cells": [
  {
   "cell_type": "markdown",
   "metadata": {},
   "source": [
    "# Análisis de ventas globales de videojuegos y perfil de usuarios"
   ]
  },
  {
   "cell_type": "markdown",
   "metadata": {
    "tags": [
     "e5c1f0c2-db9f-43a0-99b9-4875c52427e8"
    ]
   },
   "source": [
    "# Descripción del proyecto\n",
    "\n",
    "Trabajas para la tienda online Ice que vende videojuegos por todo el mundo. Las reseñas de usuarios y expertos, los géneros, las plataformas (por ejemplo, Xbox o PlayStation) y los datos históricos sobre las ventas de juegos están disponibles en fuentes abiertas. Tienes que identificar patrones que determinen si un juego tiene éxito o no. Esto te permitirá detectar proyectos prometedores y planificar campañas publicitarias.\n",
    "\n",
    "Delante de ti hay datos que se remontan a 2016. Imaginemos que es diciembre de 2016 y estás planeando una campaña para 2017.\n",
    "\n",
    "Lo importante es adquirir experiencia de trabajo con datos. Realmente no importa si estás pronosticando las ventas de 2017 en función de los datos de 2016 o las ventas de 2027 en función de los datos de 2026.\n",
    "\n",
    "El dataset contiene una columna \"rating\" que almacena la clasificación ESRB de cada juego. El Entertainment Software Rating Board (la Junta de clasificación de software de entretenimiento) evalúa el contenido de un juego y asigna una clasificación de edad como Adolescente o Adulto."
   ]
  },
  {
   "cell_type": "markdown",
   "metadata": {},
   "source": [
    "##  Inicialización"
   ]
  },
  {
   "cell_type": "code",
   "execution_count": 5,
   "metadata": {},
   "outputs": [],
   "source": [
    "# Cargarmos librerias.\n",
    "\n",
    "import pandas as pd\n",
    "import numpy as np\n",
    "from matplotlib import pyplot as plt\n",
    "from scipy import stats as st\n",
    "import seaborn as sns \n"
   ]
  },
  {
   "cell_type": "markdown",
   "metadata": {},
   "source": [
    "## Cargar datos"
   ]
  },
  {
   "cell_type": "code",
   "execution_count": 7,
   "metadata": {},
   "outputs": [],
   "source": [
    "# Cargamos los archivos de datos.\n",
    "games = pd.read_csv('games.csv')"
   ]
  },
  {
   "cell_type": "markdown",
   "metadata": {},
   "source": [
    "## Preparar los datos"
   ]
  },
  {
   "cell_type": "code",
   "execution_count": 9,
   "metadata": {},
   "outputs": [
    {
     "data": {
      "text/html": [
       "<div>\n",
       "<style scoped>\n",
       "    .dataframe tbody tr th:only-of-type {\n",
       "        vertical-align: middle;\n",
       "    }\n",
       "\n",
       "    .dataframe tbody tr th {\n",
       "        vertical-align: top;\n",
       "    }\n",
       "\n",
       "    .dataframe thead th {\n",
       "        text-align: right;\n",
       "    }\n",
       "</style>\n",
       "<table border=\"1\" class=\"dataframe\">\n",
       "  <thead>\n",
       "    <tr style=\"text-align: right;\">\n",
       "      <th></th>\n",
       "      <th>Name</th>\n",
       "      <th>Platform</th>\n",
       "      <th>Year_of_Release</th>\n",
       "      <th>Genre</th>\n",
       "      <th>NA_sales</th>\n",
       "      <th>EU_sales</th>\n",
       "      <th>JP_sales</th>\n",
       "      <th>Other_sales</th>\n",
       "      <th>Critic_Score</th>\n",
       "      <th>User_Score</th>\n",
       "      <th>Rating</th>\n",
       "    </tr>\n",
       "  </thead>\n",
       "  <tbody>\n",
       "    <tr>\n",
       "      <th>0</th>\n",
       "      <td>Wii Sports</td>\n",
       "      <td>Wii</td>\n",
       "      <td>2006.0</td>\n",
       "      <td>Sports</td>\n",
       "      <td>41.36</td>\n",
       "      <td>28.96</td>\n",
       "      <td>3.77</td>\n",
       "      <td>8.45</td>\n",
       "      <td>76.0</td>\n",
       "      <td>8</td>\n",
       "      <td>E</td>\n",
       "    </tr>\n",
       "    <tr>\n",
       "      <th>1</th>\n",
       "      <td>Super Mario Bros.</td>\n",
       "      <td>NES</td>\n",
       "      <td>1985.0</td>\n",
       "      <td>Platform</td>\n",
       "      <td>29.08</td>\n",
       "      <td>3.58</td>\n",
       "      <td>6.81</td>\n",
       "      <td>0.77</td>\n",
       "      <td>NaN</td>\n",
       "      <td>NaN</td>\n",
       "      <td>NaN</td>\n",
       "    </tr>\n",
       "    <tr>\n",
       "      <th>2</th>\n",
       "      <td>Mario Kart Wii</td>\n",
       "      <td>Wii</td>\n",
       "      <td>2008.0</td>\n",
       "      <td>Racing</td>\n",
       "      <td>15.68</td>\n",
       "      <td>12.76</td>\n",
       "      <td>3.79</td>\n",
       "      <td>3.29</td>\n",
       "      <td>82.0</td>\n",
       "      <td>8.3</td>\n",
       "      <td>E</td>\n",
       "    </tr>\n",
       "    <tr>\n",
       "      <th>3</th>\n",
       "      <td>Wii Sports Resort</td>\n",
       "      <td>Wii</td>\n",
       "      <td>2009.0</td>\n",
       "      <td>Sports</td>\n",
       "      <td>15.61</td>\n",
       "      <td>10.93</td>\n",
       "      <td>3.28</td>\n",
       "      <td>2.95</td>\n",
       "      <td>80.0</td>\n",
       "      <td>8</td>\n",
       "      <td>E</td>\n",
       "    </tr>\n",
       "    <tr>\n",
       "      <th>4</th>\n",
       "      <td>Pokemon Red/Pokemon Blue</td>\n",
       "      <td>GB</td>\n",
       "      <td>1996.0</td>\n",
       "      <td>Role-Playing</td>\n",
       "      <td>11.27</td>\n",
       "      <td>8.89</td>\n",
       "      <td>10.22</td>\n",
       "      <td>1.00</td>\n",
       "      <td>NaN</td>\n",
       "      <td>NaN</td>\n",
       "      <td>NaN</td>\n",
       "    </tr>\n",
       "  </tbody>\n",
       "</table>\n",
       "</div>"
      ],
      "text/plain": [
       "                       Name Platform  Year_of_Release         Genre  NA_sales  \\\n",
       "0                Wii Sports      Wii           2006.0        Sports     41.36   \n",
       "1         Super Mario Bros.      NES           1985.0      Platform     29.08   \n",
       "2            Mario Kart Wii      Wii           2008.0        Racing     15.68   \n",
       "3         Wii Sports Resort      Wii           2009.0        Sports     15.61   \n",
       "4  Pokemon Red/Pokemon Blue       GB           1996.0  Role-Playing     11.27   \n",
       "\n",
       "   EU_sales  JP_sales  Other_sales  Critic_Score User_Score Rating  \n",
       "0     28.96      3.77         8.45          76.0          8      E  \n",
       "1      3.58      6.81         0.77           NaN        NaN    NaN  \n",
       "2     12.76      3.79         3.29          82.0        8.3      E  \n",
       "3     10.93      3.28         2.95          80.0          8      E  \n",
       "4      8.89     10.22         1.00           NaN        NaN    NaN  "
      ]
     },
     "execution_count": 9,
     "metadata": {},
     "output_type": "execute_result"
    }
   ],
   "source": [
    "# Vista previa de los datos.\n",
    "games.head()"
   ]
  },
  {
   "cell_type": "code",
   "execution_count": 10,
   "metadata": {},
   "outputs": [
    {
     "name": "stdout",
     "output_type": "stream",
     "text": [
      "<class 'pandas.core.frame.DataFrame'>\n",
      "RangeIndex: 16715 entries, 0 to 16714\n",
      "Data columns (total 11 columns):\n",
      " #   Column           Non-Null Count  Dtype  \n",
      "---  ------           --------------  -----  \n",
      " 0   Name             16713 non-null  object \n",
      " 1   Platform         16715 non-null  object \n",
      " 2   Year_of_Release  16446 non-null  float64\n",
      " 3   Genre            16713 non-null  object \n",
      " 4   NA_sales         16715 non-null  float64\n",
      " 5   EU_sales         16715 non-null  float64\n",
      " 6   JP_sales         16715 non-null  float64\n",
      " 7   Other_sales      16715 non-null  float64\n",
      " 8   Critic_Score     8137 non-null   float64\n",
      " 9   User_Score       10014 non-null  object \n",
      " 10  Rating           9949 non-null   object \n",
      "dtypes: float64(6), object(5)\n",
      "memory usage: 1.4+ MB\n",
      "\n",
      "Filas duplicadas en el dataframe: 0\n"
     ]
    }
   ],
   "source": [
    "# Vista previa de los datos.\n",
    "games.info()\n",
    "print()\n",
    "print('Filas duplicadas en el dataframe:', games.duplicated().sum())"
   ]
  },
  {
   "cell_type": "code",
   "execution_count": 11,
   "metadata": {},
   "outputs": [],
   "source": [
    "# Remplazamos los nombres de las columnas todo a minusculas. \n",
    "games.columns = games.columns.str.lower()"
   ]
  },
  {
   "cell_type": "code",
   "execution_count": 12,
   "metadata": {},
   "outputs": [
    {
     "name": "stderr",
     "output_type": "stream",
     "text": [
      "/var/folders/y8/f0jgdbxx0ln8rkqv0wph8qnw0000gn/T/ipykernel_53607/2435756576.py:2: FutureWarning: A value is trying to be set on a copy of a DataFrame or Series through chained assignment using an inplace method.\n",
      "The behavior will change in pandas 3.0. This inplace method will never work because the intermediate object on which we are setting values always behaves as a copy.\n",
      "\n",
      "For example, when doing 'df[col].method(value, inplace=True)', try using 'df.method({col: value}, inplace=True)' or df[col] = df[col].method(value) instead, to perform the operation inplace on the original object.\n",
      "\n",
      "\n",
      "  games['name'].fillna('Desconocido', inplace=True)\n",
      "/var/folders/y8/f0jgdbxx0ln8rkqv0wph8qnw0000gn/T/ipykernel_53607/2435756576.py:3: FutureWarning: A value is trying to be set on a copy of a DataFrame or Series through chained assignment using an inplace method.\n",
      "The behavior will change in pandas 3.0. This inplace method will never work because the intermediate object on which we are setting values always behaves as a copy.\n",
      "\n",
      "For example, when doing 'df[col].method(value, inplace=True)', try using 'df.method({col: value}, inplace=True)' or df[col] = df[col].method(value) instead, to perform the operation inplace on the original object.\n",
      "\n",
      "\n",
      "  games['genre'].fillna('Desconocido', inplace=True)\n",
      "/var/folders/y8/f0jgdbxx0ln8rkqv0wph8qnw0000gn/T/ipykernel_53607/2435756576.py:4: FutureWarning: A value is trying to be set on a copy of a DataFrame or Series through chained assignment using an inplace method.\n",
      "The behavior will change in pandas 3.0. This inplace method will never work because the intermediate object on which we are setting values always behaves as a copy.\n",
      "\n",
      "For example, when doing 'df[col].method(value, inplace=True)', try using 'df.method({col: value}, inplace=True)' or df[col] = df[col].method(value) instead, to perform the operation inplace on the original object.\n",
      "\n",
      "\n",
      "  games['rating'].fillna('Desconocido', inplace=True)\n"
     ]
    }
   ],
   "source": [
    "# Imputamos valores ausentes con 'desconocido' \n",
    "games['name'].fillna('Desconocido', inplace=True)\n",
    "games['genre'].fillna('Desconocido', inplace=True)\n",
    "games['rating'].fillna('Desconocido', inplace=True)"
   ]
  },
  {
   "cell_type": "code",
   "execution_count": 13,
   "metadata": {},
   "outputs": [],
   "source": [
    "# Convertimos la columna year_of_realease a int, los valores ausentes son llenados con '0'.\n",
    "games['year_of_release'] = games['year_of_release'].fillna(0).astype(int)"
   ]
  },
  {
   "cell_type": "code",
   "execution_count": 14,
   "metadata": {},
   "outputs": [],
   "source": [
    "# Convertimos la columna user_score los valores 'tbd' a valores nulos y convertimos el tipo de dato a float.\n",
    "games.loc[games['user_score'] == 'tbd', 'user_score'] = np.nan\n",
    "games['user_score'] = games['user_score'].astype(float)"
   ]
  },
  {
   "cell_type": "code",
   "execution_count": 15,
   "metadata": {},
   "outputs": [
    {
     "name": "stderr",
     "output_type": "stream",
     "text": [
      "/var/folders/y8/f0jgdbxx0ln8rkqv0wph8qnw0000gn/T/ipykernel_53607/228178323.py:2: FutureWarning: A value is trying to be set on a copy of a DataFrame or Series through chained assignment using an inplace method.\n",
      "The behavior will change in pandas 3.0. This inplace method will never work because the intermediate object on which we are setting values always behaves as a copy.\n",
      "\n",
      "For example, when doing 'df[col].method(value, inplace=True)', try using 'df.method({col: value}, inplace=True)' or df[col] = df[col].method(value) instead, to perform the operation inplace on the original object.\n",
      "\n",
      "\n",
      "  games['user_score'].fillna(-1, inplace=True)\n",
      "/var/folders/y8/f0jgdbxx0ln8rkqv0wph8qnw0000gn/T/ipykernel_53607/228178323.py:3: FutureWarning: A value is trying to be set on a copy of a DataFrame or Series through chained assignment using an inplace method.\n",
      "The behavior will change in pandas 3.0. This inplace method will never work because the intermediate object on which we are setting values always behaves as a copy.\n",
      "\n",
      "For example, when doing 'df[col].method(value, inplace=True)', try using 'df.method({col: value}, inplace=True)' or df[col] = df[col].method(value) instead, to perform the operation inplace on the original object.\n",
      "\n",
      "\n",
      "  games['critic_score'].fillna(-1, inplace=True)\n"
     ]
    }
   ],
   "source": [
    "# Los valores ausentes son tratados como '-1' similar a la columna years_of_release decidimos utilizar un valor muy bajo.\n",
    "games['user_score'].fillna(-1, inplace=True)\n",
    "games['critic_score'].fillna(-1, inplace=True)"
   ]
  },
  {
   "cell_type": "code",
   "execution_count": 16,
   "metadata": {},
   "outputs": [],
   "source": [
    "# Creamos una columna con las ventas totales para enriquecer nuestros datos.\n",
    "games['total_sales'] = games['na_sales'] + games['eu_sales'] + games['jp_sales'] + games['other_sales']\n",
    "\n",
    "columnas = ['name', 'platform', 'year_of_release', 'genre', 'na_sales', 'eu_sales', 'jp_sales', 'other_sales', 'total_sales', 'critic_score', 'user_score', 'rating']\n",
    "games = games[columnas]"
   ]
  },
  {
   "cell_type": "markdown",
   "metadata": {},
   "source": [
    "\n",
    "**Notas:**\n",
    "\n",
    "Esta preparación deja el dataset en una forma adecuada para realizar análisis exploratorio de datos (EDA), visualizaciones y modelado sin problemas con datos faltantes o formatos inconsistentes.\n",
    "\n",
    "- Los campos name, genre y rating se han llenado con la etiqueta \"Desconocido\" para valores ausentes. En year_of_release, los valores nulos se llenaron con 0. Para las columnas user_score y critic_score, se asignó el valor -1 para representar valores desconocidos, lo cual permite identificar datos ausentes sin afectar las métricas promedio y facilita la interpretación en análisis posteriores.\n",
    "- Estandarización de Columnas: Los nombres de las columnas se han convertido a minúsculas para un formato uniforme, lo que facilita su manipulación y visualización.\n",
    "- Conversión de Tipos de Datos: year_of_release se ha convertido a int, asignando 0 a valores desconocidos. user_score y critic_score se han convertido a float y los valores 'tbd' se transformaron en NaN antes de ser imputados.\n",
    "- Creamos una columna con las ventas totales para enriquecer nuestros datos."
   ]
  },
  {
   "cell_type": "markdown",
   "metadata": {},
   "source": [
    "##  Analizamos los datos"
   ]
  },
  {
   "cell_type": "markdown",
   "metadata": {},
   "source": [
    "### Cuántos juegos fueron lanzados en diferentes años"
   ]
  },
  {
   "cell_type": "code",
   "execution_count": 20,
   "metadata": {},
   "outputs": [],
   "source": [
    "# Visualizaremos cuantos juegos fueron lanzados por cada año.\n",
    "games_by_year = games.groupby('year_of_release').count()['name'].sort_values().reset_index() \n",
    "games_by_year = games_by_year.query('year_of_release != 0')"
   ]
  },
  {
   "cell_type": "code",
   "execution_count": 21,
   "metadata": {},
   "outputs": [
    {
     "data": {
      "image/png": "[encoded data removed]",
      "text/plain": [
       "<Figure size 1000x700 with 1 Axes>"
      ]
     },
     "metadata": {},
     "output_type": "display_data"
    }
   ],
   "source": [
    "# creamos un grafico de barras para vizualizar la cantidad de juegos lanzados por año.\n",
    "plt.figure(figsize=(10, 7)) \n",
    "plt.bar(games_by_year['year_of_release'], games_by_year['name'], edgecolor='black')  \n",
    "plt.xlabel('Año de lanzamiento')  \n",
    "plt.ylabel('Cantidad de juegos')  \n",
    "plt.title('Cantidad de juegos lanzados por año') \n",
    "plt.xticks(rotation=45) \n",
    "plt.show()  "
   ]
  },
  {
   "cell_type": "markdown",
   "metadata": {},
   "source": [
    "**Notas:** después de 2009, se observa una disminución en el número de lanzamientos de juegos. Esto puede ser debido a varios factores, como el cambio hacia plataformas de juegos móviles, el aumento de costos de desarrollo en consolas de última generación, y el cambio en el modelo de negocio hacia juegos como servicio, donde se ofrecen actualizaciones y expansiones en lugar de lanzar nuevos juegos."
   ]
  },
  {
   "cell_type": "markdown",
   "metadata": {},
   "source": [
    "### Observa cómo varían las ventas de una plataforma a otra"
   ]
  },
  {
   "cell_type": "code",
   "execution_count": 24,
   "metadata": {
    "scrolled": true
   },
   "outputs": [
    {
     "data": {
      "image/png": "[encoded data removed]",
      "text/plain": [
       "<Figure size 1100x900 with 1 Axes>"
      ]
     },
     "metadata": {},
     "output_type": "display_data"
    }
   ],
   "source": [
    "# Observaremos como varian las ventas de una plataforma a otra.\n",
    "ventas_por_plataforma = games.groupby('platform')['total_sales'].sum().sort_values()\n",
    "\n",
    "#Graficamos.\n",
    "ventas_por_plataforma.plot(kind='bar', figsize=(11,9), title='Ventas por plataformas', ylabel='Ventas en millones de dolares', xlabel='plataformas',\n",
    "                          edgecolor='black')\n",
    "plt.show()\n"
   ]
  },
  {
   "cell_type": "markdown",
   "metadata": {},
   "source": [
    "**Notas:** Las plataformas con mayores ventas acumuladas en el mercado global de videojuegos son PS2, X360, PS3, Wii y DS, superando ampliamente los 900 millones de dólares cada una. Este resultado refleja el dominio de Sony, Microsoft y Nintendo en la industria durante sus generaciones más exitosas."
   ]
  },
  {
   "cell_type": "markdown",
   "metadata": {},
   "source": [
    "### Ventas de las plataformas mas populares por año"
   ]
  },
  {
   "cell_type": "code",
   "execution_count": 27,
   "metadata": {},
   "outputs": [],
   "source": [
    "# Analizaremos las ventas totales anuales de las 10 plataformas con mas ventas.\n",
    "\n",
    "top_platforms = games.groupby('platform')['total_sales'].sum().nlargest(10).index\n",
    "filtered_games = games[games['platform'].isin(top_platforms)]\n",
    "filtered_games = filtered_games.query('year_of_release != 0')\n",
    "platform_sales_by_year = filtered_games.groupby(['year_of_release', 'platform'])['total_sales'].sum().unstack()"
   ]
  },
  {
   "cell_type": "code",
   "execution_count": 28,
   "metadata": {},
   "outputs": [
    {
     "data": {
      "text/plain": [
       "<function matplotlib.pyplot.show(close=None, block=None)>"
      ]
     },
     "execution_count": 28,
     "metadata": {},
     "output_type": "execute_result"
    },
    {
     "data": {
      "image/png": "[encoded data removed]",
      "text/plain": [
       "<Figure size 1300x1000 with 1 Axes>"
      ]
     },
     "metadata": {},
     "output_type": "display_data"
    }
   ],
   "source": [
    "platform_sales_by_year.plot(kind='bar', stacked=True, figsize=(13, 10))\n",
    "plt.title('Ventas de las plataformas mas populares por año')\n",
    "plt.xlabel('Año de lanzamiento')\n",
    "plt.ylabel('Ventas totales en millones de dolares')\n",
    "plt.show"
   ]
  },
  {
   "cell_type": "markdown",
   "metadata": {},
   "source": [
    "**Notas:** En este gráfico de barras apiladas, se observa cómo las ventas de distintas plataformas varían a lo largo de los años. Algunas conclusiones que se pueden extraer son:\n",
    "\n",
    "período de popularidad para una plataforma importante parece durar entre 5 y 10 años, después de lo cual se observa un declive en las ventas a medida que surgen nuevas tecnologías y plataformas.\n",
    "Esto sugiere que una plataforma tarda unos pocos años en alcanzar su máxima popularidad y luego se mantiene durante varios años antes de declinar.\n",
    "\n",
    "A partir de 2014, muchas de estas plataformas desaparecen o sus ventas son mínimas, probablemente debido a la introducción de consolas de nueva generación y la introduccion de venta de video juegos en linea."
   ]
  },
  {
   "cell_type": "markdown",
   "metadata": {},
   "source": [
    "### Construir un modelo para 2017"
   ]
  },
  {
   "cell_type": "code",
   "execution_count": 31,
   "metadata": {},
   "outputs": [
    {
     "data": {
      "image/png": "[encoded data removed]",
      "text/plain": [
       "<Figure size 1200x800 with 1 Axes>"
      ]
     },
     "metadata": {},
     "output_type": "display_data"
    }
   ],
   "source": [
    "# Determinamos que utilizaremos datos del 2009 al 2016 para poder construir un modelo para 2017.\n",
    "games_er = games.groupby(['platform', 'year_of_release'])['total_sales'].sum().reset_index()\n",
    "games_er = games_er.query('year_of_release > 2009')\n",
    "top_platforms = (games_er.groupby('platform')['total_sales'].sum().index)\n",
    "top_platforms_sales = games_er[games_er['platform'].isin(top_platforms)].reset_index()\n",
    "pivot_data = top_platforms_sales.pivot(index='year_of_release', columns='platform', values='total_sales')\n",
    "\n",
    "# Graficamos.\n",
    "pivot_data.plot(kind='line', figsize=(12, 8), marker='o')\n",
    "plt.title('Ventas Totales por Año para las Principales Plataformas (2010-2016)', fontsize=16)\n",
    "plt.xlabel('Año de Lanzamiento', fontsize=12)\n",
    "plt.ylabel('Ventas Totales (en millones de dólares)', fontsize=12)\n",
    "plt.legend(title=\"Plataforma\", fontsize=10)\n",
    "plt.grid(True, linestyle='--', alpha=0.7)\n",
    "plt.tight_layout()\n",
    "\n",
    "plt.show()"
   ]
  },
  {
   "cell_type": "markdown",
   "metadata": {},
   "source": [
    "**Notes:** La PS4 y XOne son las principales plataformas que muestran crecimiento a partir de su lanzamiento. La PS4 destaca especialmente por su crecimiento rápido, lo que indica su potencial como una plataforma rentable para futuras inversiones en juegos y contenido.\n",
    "\n",
    "Reducción: La PS3, X360, y Wii muestran una clara disminución en ventas a lo largo de los años, ya que estas consolas estaban siendo reemplazadas por nuevas generaciones (PS4 y XOne).\n",
    "\n",
    "En resumen, las plataformas PS4, 3DS, y XOne parecen ser las opciones más prometedoras para generar ingresos en 2017, con la PS4 liderando en términos de crecimiento y ventas."
   ]
  },
  {
   "cell_type": "markdown",
   "metadata": {},
   "source": [
    "### Diagrama de caja para las ventas globales de todos los juegos"
   ]
  },
  {
   "cell_type": "code",
   "execution_count": 34,
   "metadata": {},
   "outputs": [
    {
     "data": {
      "image/png": "[encoded data removed]",
      "text/plain": [
       "<Figure size 900x700 with 1 Axes>"
      ]
     },
     "metadata": {},
     "output_type": "display_data"
    }
   ],
   "source": [
    "# Crearemos un diagrama de caja para las ventas globales de todos los juegos, desglosados por plataforma.\n",
    "\n",
    "top_platforms_sales.boxplot(column='total_sales', by='platform', figsize=(9,7))\n",
    "plt.title('Ventas Globales de Juegos por Plataforma (2010 - 2016)')\n",
    "plt.suptitle('')\n",
    "plt.xlabel('Plataforma')\n",
    "plt.ylabel('Ventas Globales (en millones de dólares)')\n",
    "plt.xticks(rotation=45, ha='right')\n",
    "plt.yticks(fontsize=12)\n",
    "plt.grid(axis='y', linestyle='--', alpha=0.7)\n",
    "plt.tight_layout()\n",
    "plt.show()"
   ]
  },
  {
   "cell_type": "markdown",
   "metadata": {},
   "source": [
    "**Notas:** Plataformas Potencialmente Rentables: PS4, PS3, XOne, 3DS y X360 son las plataformas más rentables, con medianas más altas y una variabilidad considerable, lo que sugiere que pueden albergar títulos muy exitosos.\n",
    "Plataformas Menos Rentables: PC, PSV, y WiiU tienen medianas bajas y menos variabilidad, lo cual sugiere que tienen menos probabilidad de albergar juegos de alto éxito, haciéndolas menos atractivas para nuevas inversiones en títulos importantes.\n",
    "Éxitos Ocasionales: A pesar de tener menores ventas promedio, plataformas como Wii y WiiU tienen algunos éxitos destacados, posiblemente gracias a títulos exclusivos o franquicias populares.\n",
    "En resumen, PS4, PS3, XOne, 3DS y X360 se destacan como opciones atractivas para lanzamientos de nuevos juegos debido a su historial de ventas altas y variabilidad, lo que sugiere un mercado amplio y con potencial de altos ingresos."
   ]
  },
  {
   "cell_type": "markdown",
   "metadata": {},
   "source": [
    "### Gráfico de dispersión y calcula la correlación entre las reseñas y las ventas"
   ]
  },
  {
   "cell_type": "code",
   "execution_count": 37,
   "metadata": {},
   "outputs": [
    {
     "data": {
      "text/plain": [
       "Text(0, 0.5, 'Ventas Totales (millones de dólares)')"
      ]
     },
     "execution_count": 37,
     "metadata": {},
     "output_type": "execute_result"
    },
    {
     "data": {
      "image/png": "[encoded data removed]",
      "text/plain": [
       "<Figure size 640x480 with 1 Axes>"
      ]
     },
     "metadata": {},
     "output_type": "display_data"
    }
   ],
   "source": [
    "# Crearemos un gráfico de dispersión de la plataforma PS4 y calcularemos la correlación entre las reseñas y las ventas.\n",
    "\n",
    "ps4_data = games[games['platform'] == 'PS4']\n",
    "ps4_data = ps4_data.query('user_score != -1')\n",
    "ps4_data = ps4_data.query('critic_score != -1')\n",
    "plt.scatter(ps4_data['user_score'], ps4_data['total_sales'], alpha=0.6, color='blue')\n",
    "plt.title('Ventas vs Reseña de Usuarios (PS4)')\n",
    "plt.xlabel('Puntaje de Usuarios')\n",
    "plt.ylabel('Ventas Totales (millones de dólares)')"
   ]
  },
  {
   "cell_type": "code",
   "execution_count": 39,
   "metadata": {},
   "outputs": [
    {
     "data": {
      "text/plain": [
       "Text(0, 0.5, 'Ventas Totales (millones de dólares)')"
      ]
     },
     "execution_count": 39,
     "metadata": {},
     "output_type": "execute_result"
    },
    {
     "data": {
      "image/png": "[encoded data removed]",
      "text/plain": [
       "<Figure size 640x480 with 1 Axes>"
      ]
     },
     "metadata": {},
     "output_type": "display_data"
    }
   ],
   "source": [
    "\n",
    "plt.scatter(ps4_data['critic_score'], ps4_data['total_sales'], alpha=0.6, color='green')\n",
    "plt.title('Ventas vs Reseña de Críticos (PS4)')\n",
    "plt.xlabel('Puntaje de Críticos')\n",
    "plt.ylabel('Ventas Totales (millones de dólares)')"
   ]
  },
  {
   "cell_type": "code",
   "execution_count": 40,
   "metadata": {},
   "outputs": [],
   "source": [
    "user_sales_corr = ps4_data['user_score'].corr(ps4_data['total_sales'])\n",
    "critic_sales_corr = ps4_data['critic_score'].corr(ps4_data['total_sales'])"
   ]
  },
  {
   "cell_type": "code",
   "execution_count": 41,
   "metadata": {},
   "outputs": [
    {
     "name": "stdout",
     "output_type": "stream",
     "text": [
      "-0.0336249759652888\n",
      "0.4058948014583667\n"
     ]
    }
   ],
   "source": [
    "print(user_sales_corr)\n",
    "print(critic_sales_corr)"
   ]
  },
  {
   "cell_type": "markdown",
   "metadata": {},
   "source": [
    "**Notas:** La correlación entre las reseñas de usuarios y las ventas es de aproximadamente -0.03, lo cual indica una relación negativa muy débil.\n",
    "Esto sugiere que las puntuaciones de los usuarios no tienen una influencia significativa en las ventas. En otras palabras, el éxito comercial de un juego en la PS4 no parece depender de si los usuarios le dan una puntuación alta o baja.\n",
    "\n",
    "\n",
    "La correlación entre las reseñas de críticos y las ventas es de aproximadamente 0.41, lo cual indica una relación positiva moderada.\n",
    "Esto sugiere que las puntuaciones de los críticos tienen una cierta influencia en las ventas. Es posible que los juegos con mejores reseñas de críticos tengan mayores probabilidades de éxito en ventas, aunque esta relación no es lo suficientemente fuerte como para considerarla determinante."
   ]
  },
  {
   "cell_type": "markdown",
   "metadata": {},
   "source": [
    "### Distribución general de los juegos por género"
   ]
  },
  {
   "cell_type": "code",
   "execution_count": 110,
   "metadata": {},
   "outputs": [
    {
     "data": {
      "image/png": "[encoded data removed]",
      "text/plain": [
       "<Figure size 900x700 with 1 Axes>"
      ]
     },
     "metadata": {},
     "output_type": "display_data"
    }
   ],
   "source": [
    "# haremos una distribucion general de los juegos por genero para saber que generos generan mas ventas.\n",
    "genre_counts = games['genre'].value_counts()\n",
    "genre_sales = games.groupby('genre')['total_sales'].sum().sort_values(ascending=False)\n",
    "\n",
    "#Graficamos.\n",
    "genre_sales.plot(kind='bar', figsize=(9, 7), title='Ventas de video juegos por genero', xlabel='Genero', ylabel='Ventas en millones de dolares' , edgecolor='black')\n",
    "plt.show()"
   ]
  },
  {
   "cell_type": "markdown",
   "metadata": {},
   "source": [
    "**Notas:** Los géneros de acción, deportes, y shooters suelen tener una mayor aceptación y, por lo tanto, mayores ingresos, probablemente debido a su atractivo universal y su capacidad para captar una audiencia amplia.\n",
    "Los géneros con ventas bajas parecen ser menos populares o más orientados a nichos específicos. Aunque pueden tener seguidores leales, es probable que estos géneros no generen el mismo nivel de ingresos que los géneros más populares."
   ]
  },
  {
   "cell_type": "markdown",
   "metadata": {},
   "source": [
    "## Creamos un perfil de usuario para cada región"
   ]
  },
  {
   "cell_type": "markdown",
   "metadata": {},
   "source": [
    "### Las cinco plataformas principales para cada región"
   ]
  },
  {
   "cell_type": "code",
   "execution_count": 47,
   "metadata": {},
   "outputs": [],
   "source": [
    "# Para cada región (NA, UE, JP) determinaremos las 5 plataformas principales\n",
    "\n",
    "top_platforms_na = games.groupby('platform')['na_sales'].sum().nlargest(5)\n",
    "top_platforms_eu = games.groupby('platform')['eu_sales'].sum().nlargest(5)\n",
    "top_platforms_jp = games.groupby('platform')['jp_sales'].sum().nlargest(5)"
   ]
  },
  {
   "cell_type": "code",
   "execution_count": 115,
   "metadata": {},
   "outputs": [
    {
     "data": {
      "image/png": "[encoded data removed]",
      "text/plain": [
       "<Figure size 1800x500 with 3 Axes>"
      ]
     },
     "metadata": {},
     "output_type": "display_data"
    }
   ],
   "source": [
    "\n",
    "plt.figure(figsize=(18, 5))\n",
    "\n",
    "plt.subplot(1, 3, 1)\n",
    "top_platforms_na.plot(kind='bar', color='skyblue', edgecolor='black', title='Top Plataformas NA')\n",
    "plt.xlabel('Plataforma')\n",
    "plt.ylabel('Ventas en millones de dólares')\n",
    "plt.xticks(rotation=45)\n",
    "\n",
    "plt.subplot(1, 3, 2)\n",
    "top_platforms_eu.plot(kind='bar', color='pink', edgecolor='black', title='Top Plataformas EU')\n",
    "plt.xlabel('Plataforma')\n",
    "plt.ylabel('Ventas en millones de dólares')\n",
    "plt.xticks(rotation=45)\n",
    "\n",
    "plt.subplot(1, 3, 3)\n",
    "top_platforms_jp.plot(kind='bar', color='lightgreen', edgecolor='black', title='Top Plataformas JP')\n",
    "plt.xlabel('Plataforma')\n",
    "plt.ylabel('Ventas en millones de dólares')\n",
    "plt.xticks(rotation=45)\n",
    "\n",
    "plt.show()"
   ]
  },
  {
   "cell_type": "markdown",
   "metadata": {},
   "source": [
    "**Notas:** \n",
    "\n",
    "Norteamérica (NA): Principales plataformas: X360, PS2, Wii, PS3, y DS.\n",
    "La Xbox 360 domina en NA, posiblemente debido al atractivo de juegos exclusivos y una buena aceptación en el mercado norteamericano.\n",
    "\n",
    "Europa (EU): Principales plataformas: PS2, PS3, X360, Wii, y PS.\n",
    "La PlayStation tiene una presencia fuerte en Europa, con la PS2 y PS3 entre las plataformas más vendidas, lo que indica una mayor afinidad por las consolas de Sony en comparación con América del Norte.\n",
    "\n",
    "Japón (JP): Principales plataformas: DS, PS, PS2, SNES, y 3DS.\n",
    "Japón muestra una preferencia significativa por plataformas portátiles como Nintendo DS y 3DS. Además, las consolas clásicas como la PS y SNES tienen una presencia relevante, reflejando una preferencia cultural por plataformas de Nintendo y Sony."
   ]
  },
  {
   "cell_type": "markdown",
   "metadata": {},
   "source": [
    "### Los cinco géneros principales"
   ]
  },
  {
   "cell_type": "code",
   "execution_count": 121,
   "metadata": {},
   "outputs": [],
   "source": [
    "# Visualizaremos los 5 generos principales de cada region (Na, EU, JP).\n",
    "\n",
    "top_genre_na = games.groupby('genre')['na_sales'].sum().nlargest(5)\n",
    "top_genre_eu = games.groupby('genre')['eu_sales'].sum().nlargest(5)\n",
    "top_genre_jp = games.groupby('genre')['jp_sales'].sum().nlargest(5)"
   ]
  },
  {
   "cell_type": "code",
   "execution_count": 135,
   "metadata": {},
   "outputs": [
    {
     "data": {
      "image/png": "[encoded data removed]",
      "text/plain": [
       "<Figure size 1800x500 with 3 Axes>"
      ]
     },
     "metadata": {},
     "output_type": "display_data"
    }
   ],
   "source": [
    "plt.figure(figsize=(18, 5))\n",
    "\n",
    "plt.subplot(1, 3, 1)\n",
    "top_genre_na.plot(kind='bar', color='skyblue', edgecolor='black' , title='Top Generos NA')\n",
    "plt.xlabel('Plataforma')\n",
    "plt.ylabel('Ventas en millones de dólares')\n",
    "plt.xticks(rotation=45)\n",
    "\n",
    "plt.subplot(1, 3, 2)\n",
    "top_genre_eu.plot(kind='bar', color='pink', edgecolor='black', title='Top Generos EU')\n",
    "plt.xlabel('Plataforma')\n",
    "plt.ylabel('Ventas en millones de dólares')\n",
    "plt.xticks(rotation=45)\n",
    "\n",
    "plt.subplot(1, 3, 3)\n",
    "top_genre_jp.plot(kind='bar', color='lightgreen', edgecolor='black', title='Top Generos JP')\n",
    "plt.xlabel('Plataforma')\n",
    "plt.ylabel('Ventas en millones de dólares')\n",
    "plt.xticks(rotation=45)\n",
    "\n",
    "plt.show()"
   ]
  },
  {
   "cell_type": "markdown",
   "metadata": {},
   "source": [
    "**Notas:** \n",
    "\n",
    "NA y EU tienen preferencias similares, con el género Action dominando en ambas regiones, seguido de Sports y Shooter.\n",
    "\n",
    "JP muestra una preferencia única por Role-Playing, lo cual refleja las diferencias culturales en el mercado de videojuegos, con un enfoque en géneros que ofrecen historias complejas y experiencias inmersivas.\n",
    "\n",
    "Este análisis puede ser útil para entender cómo adaptar estrategias de marketing y desarrollo de videojuegos en función de las preferencias de cada región."
   ]
  },
  {
   "cell_type": "markdown",
   "metadata": {},
   "source": [
    "### ¿ESRB (Entertainment Software Rating Board)  afectan a las ventas en regiones individuales?"
   ]
  },
  {
   "cell_type": "code",
   "execution_count": 53,
   "metadata": {},
   "outputs": [],
   "source": [
    "# Analizaremos si las clasificaciones de ESRB afectan a las ventas en regiones individuales.\n",
    "\n",
    "esrb_na = games.groupby('rating')['na_sales'].sum().sort_values(ascending=False)\n",
    "esrb_eu = games.groupby('rating')['eu_sales'].sum().sort_values(ascending=False)\n",
    "esrb_jp = games.groupby('rating')['jp_sales'].sum().sort_values(ascending=False)\n",
    "\n",
    "esrb_na_filtered = esrb_na.reset_index().query('rating != \"Desconocido\"').set_index('rating')\n",
    "esrb_eu_filtered = esrb_eu.reset_index().query('rating != \"Desconocido\"').set_index('rating')\n",
    "esrb_jp_filtered = esrb_jp.reset_index().query('rating != \"Desconocido\"').set_index('rating')"
   ]
  },
  {
   "cell_type": "code",
   "execution_count": 146,
   "metadata": {},
   "outputs": [
    {
     "data": {
      "image/png": "[encoded data removed]",
      "text/plain": [
       "<Figure size 1800x500 with 3 Axes>"
      ]
     },
     "metadata": {},
     "output_type": "display_data"
    }
   ],
   "source": [
    "plt.figure(figsize=(18, 5))\n",
    "\n",
    "ax1 = plt.subplot(1, 3, 1)\n",
    "esrb_na_filtered.plot(kind='bar', color='skyblue', edgecolor='black', legend=False, ax=ax1)\n",
    "ax1.set_title('Clasificación ESRB en NA')\n",
    "ax1.set_xlabel('Clasificación ESRB')\n",
    "ax1.set_ylabel('Ventas en millones de dólares')\n",
    "ax1.set_xticklabels(ax1.get_xticklabels(), rotation=45)\n",
    "\n",
    "ax2 = plt.subplot(1, 3, 2)\n",
    "esrb_eu_filtered.plot(kind='bar', color='pink', edgecolor='black', legend=False, ax=ax2)\n",
    "ax2.set_title('Clasificación ESRB en EU')\n",
    "ax2.set_xlabel('Clasificación ESRB')\n",
    "ax2.set_ylabel('Ventas en millones de dólares')\n",
    "ax2.set_xticklabels(ax2.get_xticklabels(), rotation=45)\n",
    "\n",
    "ax3 = plt.subplot(1, 3, 3)\n",
    "esrb_jp_filtered.plot(kind='bar', color='lightgreen', edgecolor='black', legend=False, ax=ax3)\n",
    "ax3.set_title('Clasificación ESRB en JP')\n",
    "ax3.set_xlabel('Clasificación ESRB')\n",
    "ax3.set_ylabel('Ventas en millones de dólares')\n",
    "ax3.set_xticklabels(ax3.get_xticklabels(), rotation=45)\n",
    "\n",
    "plt.show()\n"
   ]
  },
  {
   "cell_type": "markdown",
   "metadata": {},
   "source": [
    "**Notas:** E (Everyone) es la clasificación dominante en todas las regiones, indicando una fuerte preferencia global por juegos aptos para todas las edades.\n",
    "Mature (M) y Teen (T) son populares en NA y EU, mientras que en Japón los juegos para adolescentes (T) son más populares que los de contenido maduro (M).\n",
    "Las clasificaciones E10+ y las clasificaciones extremadamente específicas como AO y EC tienen poca relevancia en todas las regiones, lo que sugiere que estos juegos tienen un mercado reducido o limitado."
   ]
  },
  {
   "cell_type": "markdown",
   "metadata": {},
   "source": [
    "## Prueba de hipótesis "
   ]
  },
  {
   "cell_type": "markdown",
   "metadata": {},
   "source": [
    " ### Hipótesis 1: Comparación de las Calificaciones Promedio entre Xbox One y PC"
   ]
  },
  {
   "cell_type": "markdown",
   "metadata": {},
   "source": [
    "Criterio para Probar la Hipótesis\n",
    "Usaremos una prueba t de dos muestras (o prueba t de Student) porque:\n",
    "\n",
    "Queremos comparar las medias de dos grupos independientes (calificaciones de usuarios de Xbox One vs. PC).\n",
    "Asumimos que las calificaciones de usuario para cada plataforma son distribuidas aproximadamente de manera normal, dado el tamaño del dataset.\n",
    "Antes de realizar la prueba t, también aplicamos una prueba de Levene para comprobar si las varianzas de las dos plataformas son iguales. Esto nos permite decidir si usar la prueba t con varianzas iguales (equal_var=True) o desiguales (equal_var=False).\n",
    "\n",
    "H0: las clasificaciones promedio de los usuarios de XboxOne y PC son estadisticamente significativas, es decir, son iguales.\n",
    "\n",
    "H1: las clasificaciones promedio de los usuarios de XboxOne y PC No son estadisticamente significativas, es decir, no son iguales.\n",
    "\n"
   ]
  },
  {
   "cell_type": "code",
   "execution_count": 164,
   "metadata": {},
   "outputs": [
    {
     "name": "stdout",
     "output_type": "stream",
     "text": [
      "LeveneResult(statistic=1.2212506384014863, pvalue=0.26939515120472823)\n",
      "\n",
      "No podemos rechazar H0, no hay evidencia suficiente para decir que la varianza de Xbox One y PC no son iguales\n"
     ]
    }
   ],
   "source": [
    "# # Mostrar los resultados de la prueba de Levene\n",
    "\n",
    "alpha = 0.05\n",
    "xbox_one_score = games[(games['platform'] == 'XOne') & (games['user_score'] != -1)]['user_score']\n",
    "pc_score = games[(games['platform'] == 'PC') & (games['user_score'] != -1)]['user_score']\n",
    "\n",
    "p_value_levene = st.levene(xbox_one_score, pc_score)\n",
    "print(p_value_levene)\n",
    "print()\n",
    "\n",
    "if (p_value_levene.pvalue < alpha):\n",
    "    print('Rechazamos H0: La varianza de Xbox One no es igual a la varianza de PC')\n",
    "else:\n",
    "    print('No podemos rechazar H0, no hay evidencia suficiente para decir que la varianza de Xbox One y PC no son iguales')\n",
    "    \n"
   ]
  },
  {
   "cell_type": "code",
   "execution_count": 61,
   "metadata": {},
   "outputs": [
    {
     "name": "stdout",
     "output_type": "stream",
     "text": [
      "1.3896435533548827e-05\n",
      "\n",
      "Rechazamos la hipotesis nula\n"
     ]
    }
   ],
   "source": [
    "# Verificaremos si las calificaciones promedio de los usuarios para las plataformas Xbox One y PC son las mismas.\n",
    "\n",
    "result_xbox_pc = st.ttest_ind(xbox_one_score, pc_score, equal_var=True).pvalue\n",
    "print(result_xbox_pc)\n",
    "print()\n",
    "\n",
    "if (result_xbox_pc < alpha):\n",
    "    print('Rechazamos la hipotesis nula')\n",
    "else:\n",
    "    print('No podemos rechazar la hipotesis nula')\n"
   ]
  },
  {
   "cell_type": "markdown",
   "metadata": {},
   "source": [
    "**Conclusion:**\n",
    "\n",
    "Al rechazar la hipótesis nula, concluimos que las calificaciones promedio de los usuarios para las plataformas Xbox One y PC son significativamente diferentes. Este resultado indica que existe una diferencia estadísticamente significativa entre las calificaciones promedio de los usuarios en ambas plataformas, y no es probable que esta diferencia sea solo producto del azar.\n",
    "\n",
    "Interpretación\n",
    "Este hallazgo sugiere que los usuarios de Xbox One y PC evalúan los juegos de manera diferente en promedio, lo que puede ser útil para comprender las preferencias o expectativas distintas entre los jugadores de estas plataformas."
   ]
  },
  {
   "cell_type": "markdown",
   "metadata": {},
   "source": [
    "### Hipótesis 2: Comparación de las Calificaciones Promedio entre Géneros de Acción y Deportes"
   ]
  },
  {
   "cell_type": "markdown",
   "metadata": {},
   "source": [
    "\n",
    "Para probar esta hipótesis, nuevamente usaremos una prueba t de dos muestras. El criterio para elegir esta prueba es el mismo que en la primera hipótesis:\n",
    "\n",
    "Comparamos las medias de dos grupos independientes (calificaciones de usuario para los géneros de Acción vs. Deportes).\n",
    "Si las varianzas son iguales (según la prueba de Levene), utilizaremos equal_var=True; de lo contrario, usaremos equal_var=False.\n",
    "\n",
    "H0: Las calificaciones promedio de los usuarios para los géneros de Acción y Deportes son iguales.\n",
    "\n",
    "H1: Las calificaciones promedio de los usuarios para los géneros de Acción y Deportes son diferentes."
   ]
  },
  {
   "cell_type": "code",
   "execution_count": 66,
   "metadata": {},
   "outputs": [
    {
     "name": "stdout",
     "output_type": "stream",
     "text": [
      "LeveneResult(statistic=14.132896085177192, pvalue=0.00017366406727275597)\n",
      "\n",
      "Rechazamos H0: La varianza de Action no es igual a la varianza de Sports\n"
     ]
    }
   ],
   "source": [
    "# # Mostrar los resultados de la prueba de Levene\n",
    "\n",
    "alpha = 0.05\n",
    "accion = games[(games['genre'] == 'Action') & (games['user_score'] != -1)]['user_score']\n",
    "deportes = games[(games['genre'] == 'Sports') & (games['user_score'] != -1)]['user_score']\n",
    "\n",
    "levene_action_sports = st.levene(accion, deportes)\n",
    "print(levene_action_sports)\n",
    "print()\n",
    "\n",
    "if (levene_action_sports.pvalue < alpha):\n",
    "    print('Rechazamos H0: La varianza de Action no es igual a la varianza de Sports')\n",
    "else:\n",
    "    print('No podemos rechazar H0, no hay evidencia suficiente para decir que la varianza de Action y Sports no son iguales')"
   ]
  },
  {
   "cell_type": "code",
   "execution_count": 67,
   "metadata": {},
   "outputs": [
    {
     "name": "stdout",
     "output_type": "stream",
     "text": [
      "0.11483818791498293\n",
      "\n",
      "No podemos rechazar la hipotesis nula\n"
     ]
    }
   ],
   "source": [
    "# Verificaremos si las calificaciones promedio de los usuarios para Action y Sports son las mismas.\n",
    "\n",
    "result_action_sports = st.ttest_ind(accion, deportes, equal_var=False).pvalue\n",
    "print(result_action_sports)\n",
    "print()\n",
    "\n",
    "if (result_action_sports < alpha):\n",
    "    print('Rechazamos la hipotesis nula')\n",
    "else:\n",
    "    print('No podemos rechazar la hipotesis nula')"
   ]
  },
  {
   "cell_type": "markdown",
   "metadata": {},
   "source": [
    "**Conclusion:**\n",
    "    \n",
    "Aunque las varianzas de las calificaciones entre los géneros de Acción y Deportes son diferentes, las calificaciones promedio de los usuarios para estos géneros no muestran una diferencia estadísticamente significativa.\n",
    "Esto sugiere que, en promedio, los usuarios califican los juegos de Acción y Deportes de manera similar, a pesar de la variabilidad en las calificaciones dentro de cada género.\n",
    "Este análisis es importante para entender que, aunque los géneros puedan tener distribuciones de calificaciones diferentes (como muestra la prueba de Levene), las medias de las calificaciones pueden ser estadísticamente similares.    "
   ]
  },
  {
   "cell_type": "markdown",
   "metadata": {},
   "source": [
    "## Conclusión general"
   ]
  },
  {
   "cell_type": "markdown",
   "metadata": {},
   "source": [
    "Este análisis ofrece una perspectiva detallada sobre el comportamiento de los usuarios en el mercado global de videojuegos, observando diferencias regionales, preferencias de género y variaciones de calificaciones por plataforma. A continuación, se destacan los hallazgos clave:\n",
    "\n",
    "Preferencias Regionales:\n",
    "\n",
    "Los géneros y plataformas populares varían significativamente entre Norteamérica, Europa y Japón. Las plataformas de Microsoft y Sony dominan en Occidente, mientras que Japón muestra una clara preferencia por las consolas portátiles y los géneros de rol. Esto sugiere que los desarrolladores deben adaptar sus estrategias según el mercado objetivo.\n",
    "\n",
    "Impacto de la Clasificación ESRB:\n",
    "\n",
    "Los juegos clasificados como E (Everyone) son populares en todas las regiones, lo que indica una preferencia global por juegos accesibles a una audiencia amplia. Sin embargo, las clasificaciones más restrictivas, como M (Mature), tienen un mayor impacto en NA y EU que en JP, lo que muestra diferencias culturales en la aceptación de contenido para adultos.\n",
    "\n",
    "Análisis de las Calificaciones de Usuario:\n",
    "\n",
    "Aunque existen diferencias de calificaciones entre las plataformas, como entre Xbox One y PC, estas no son significativas en cuanto a las medias. En el caso de los géneros, aunque Acción y Deportes muestran varianzas diferentes en las calificaciones, no se observan diferencias significativas en las calificaciones promedio, lo que indica una percepción globalmente similar en términos de calidad y disfrute de estos géneros.\n",
    "\n",
    "Implicaciones Estratégicas:\n",
    "\n",
    "La información obtenida puede orientar futuras decisiones en desarrollo, marketing y posicionamiento de videojuegos. En particular, entender que las diferencias de preferencias y aceptación de contenido entre regiones y plataformas es esencial para una planificación eficaz en el lanzamiento de juegos.\n",
    "\n",
    "Este proyecto reafirma la importancia de analizar datos de ventas y calificaciones en profundidad, para comprender mejor las demandas y expectativas del mercado global de videojuegos. La combinación de un análisis estadístico riguroso y una comprensión de las preferencias regionales permite una visión más clara y fundamentada para decisiones estratégicas en la industria."
   ]
  },
  {
   "cell_type": "code",
   "execution_count": null,
   "metadata": {},
   "outputs": [],
   "source": []
  }
 ],
 "metadata": {
  "ExecuteTimeLog": [
   {
    "duration": 3,
    "start_time": "2024-10-30T18:44:19.259Z"
   },
   {
    "duration": 3,
    "start_time": "2024-10-30T18:50:18.729Z"
   },
   {
    "duration": 2533,
    "start_time": "2024-10-30T18:58:20.025Z"
   },
   {
    "duration": 2,
    "start_time": "2024-10-30T18:58:54.120Z"
   },
   {
    "duration": 339,
    "start_time": "2024-10-30T19:04:35.695Z"
   },
   {
    "duration": 48,
    "start_time": "2024-10-30T19:08:14.940Z"
   },
   {
    "duration": 109,
    "start_time": "2024-10-30T19:08:17.344Z"
   },
   {
    "duration": 50,
    "start_time": "2024-10-30T19:10:22.203Z"
   },
   {
    "duration": 3,
    "start_time": "2024-10-30T19:12:05.261Z"
   },
   {
    "duration": 13,
    "start_time": "2024-10-30T19:12:17.186Z"
   },
   {
    "duration": 49,
    "start_time": "2024-10-30T19:13:36.221Z"
   },
   {
    "duration": 49,
    "start_time": "2024-10-30T19:14:40.297Z"
   },
   {
    "duration": 5,
    "start_time": "2024-10-30T19:15:39.877Z"
   },
   {
    "duration": 5,
    "start_time": "2024-10-30T19:17:18.402Z"
   },
   {
    "duration": 36,
    "start_time": "2024-10-30T19:17:22.710Z"
   },
   {
    "duration": 13,
    "start_time": "2024-10-30T19:17:27.430Z"
   },
   {
    "duration": 2502,
    "start_time": "2024-10-31T15:00:27.820Z"
   },
   {
    "duration": 35,
    "start_time": "2024-10-31T15:00:30.324Z"
   },
   {
    "duration": 14,
    "start_time": "2024-10-31T15:00:39.280Z"
   },
   {
    "duration": 14,
    "start_time": "2024-10-31T15:00:49.435Z"
   },
   {
    "duration": 23,
    "start_time": "2024-10-31T15:03:28.713Z"
   },
   {
    "duration": 25,
    "start_time": "2024-10-31T15:06:17.011Z"
   },
   {
    "duration": 14,
    "start_time": "2024-10-31T15:06:25.363Z"
   },
   {
    "duration": 16,
    "start_time": "2024-10-31T15:07:02.908Z"
   },
   {
    "duration": 16,
    "start_time": "2024-10-31T15:07:15.983Z"
   },
   {
    "duration": 25,
    "start_time": "2024-10-31T15:07:23.565Z"
   },
   {
    "duration": 15,
    "start_time": "2024-10-31T15:10:29.326Z"
   },
   {
    "duration": 12,
    "start_time": "2024-10-31T15:10:40.616Z"
   },
   {
    "duration": 3,
    "start_time": "2024-10-31T15:13:47.241Z"
   },
   {
    "duration": 23,
    "start_time": "2024-10-31T15:13:48.962Z"
   },
   {
    "duration": 3,
    "start_time": "2024-10-31T15:20:00.005Z"
   },
   {
    "duration": 127,
    "start_time": "2024-10-31T15:23:30.141Z"
   },
   {
    "duration": 104,
    "start_time": "2024-10-31T15:23:59.658Z"
   },
   {
    "duration": 13,
    "start_time": "2024-10-31T15:24:07.234Z"
   },
   {
    "duration": 3,
    "start_time": "2024-10-31T15:25:24.521Z"
   },
   {
    "duration": 15,
    "start_time": "2024-10-31T15:25:29.861Z"
   },
   {
    "duration": 3,
    "start_time": "2024-10-31T15:26:06.659Z"
   },
   {
    "duration": 5,
    "start_time": "2024-10-31T15:29:19.445Z"
   },
   {
    "duration": 16,
    "start_time": "2024-10-31T15:30:54.885Z"
   },
   {
    "duration": 10,
    "start_time": "2024-10-31T15:31:14.409Z"
   },
   {
    "duration": 4,
    "start_time": "2024-10-31T15:33:01.969Z"
   },
   {
    "duration": 10,
    "start_time": "2024-10-31T15:33:20.674Z"
   },
   {
    "duration": 5,
    "start_time": "2024-10-31T15:33:25.040Z"
   },
   {
    "duration": 14,
    "start_time": "2024-10-31T15:34:07.739Z"
   },
   {
    "duration": 58,
    "start_time": "2024-10-31T15:34:27.227Z"
   },
   {
    "duration": 11,
    "start_time": "2024-10-31T15:34:30.488Z"
   },
   {
    "duration": 548,
    "start_time": "2024-10-31T15:35:40.420Z"
   },
   {
    "duration": 104,
    "start_time": "2024-10-31T15:36:28.472Z"
   },
   {
    "duration": 85,
    "start_time": "2024-10-31T15:37:07.967Z"
   },
   {
    "duration": 4,
    "start_time": "2024-10-31T15:37:21.060Z"
   },
   {
    "duration": 10,
    "start_time": "2024-10-31T15:37:23.423Z"
   },
   {
    "duration": 10,
    "start_time": "2024-10-31T15:37:41.411Z"
   },
   {
    "duration": 13,
    "start_time": "2024-10-31T15:37:44.527Z"
   },
   {
    "duration": 4,
    "start_time": "2024-10-31T15:37:59.220Z"
   },
   {
    "duration": 12,
    "start_time": "2024-10-31T15:38:00.578Z"
   },
   {
    "duration": 9,
    "start_time": "2024-10-31T15:38:26.196Z"
   },
   {
    "duration": 10,
    "start_time": "2024-10-31T15:38:27.193Z"
   },
   {
    "duration": 6,
    "start_time": "2024-10-31T15:39:59.621Z"
   },
   {
    "duration": 3,
    "start_time": "2024-10-31T15:40:18.709Z"
   },
   {
    "duration": 11,
    "start_time": "2024-10-31T15:40:29.343Z"
   },
   {
    "duration": 5,
    "start_time": "2024-10-31T15:41:14.760Z"
   },
   {
    "duration": 10,
    "start_time": "2024-10-31T15:41:16.659Z"
   },
   {
    "duration": 6,
    "start_time": "2024-10-31T15:42:55.312Z"
   },
   {
    "duration": 10,
    "start_time": "2024-10-31T15:42:56.732Z"
   },
   {
    "duration": 6,
    "start_time": "2024-10-31T15:43:02.515Z"
   },
   {
    "duration": 11,
    "start_time": "2024-10-31T15:43:04.455Z"
   },
   {
    "duration": 141,
    "start_time": "2024-10-31T15:44:58.689Z"
   },
   {
    "duration": 4,
    "start_time": "2024-10-31T15:49:14.139Z"
   },
   {
    "duration": 40,
    "start_time": "2024-10-31T15:49:28.576Z"
   },
   {
    "duration": 25,
    "start_time": "2024-10-31T15:49:50.856Z"
   },
   {
    "duration": 7,
    "start_time": "2024-10-31T15:49:58.159Z"
   },
   {
    "duration": 10,
    "start_time": "2024-10-31T15:50:04.997Z"
   },
   {
    "duration": 11,
    "start_time": "2024-10-31T15:50:20.325Z"
   },
   {
    "duration": 3,
    "start_time": "2024-10-31T15:52:02.087Z"
   },
   {
    "duration": 3,
    "start_time": "2024-10-31T15:52:43.031Z"
   },
   {
    "duration": 12,
    "start_time": "2024-10-31T15:57:26.779Z"
   },
   {
    "duration": 19,
    "start_time": "2024-10-31T15:57:52.284Z"
   },
   {
    "duration": 22,
    "start_time": "2024-10-31T15:57:56.571Z"
   },
   {
    "duration": 19,
    "start_time": "2024-10-31T15:58:02.420Z"
   },
   {
    "duration": 4,
    "start_time": "2024-10-31T15:58:47.619Z"
   },
   {
    "duration": 17,
    "start_time": "2024-10-31T15:58:55.988Z"
   },
   {
    "duration": 17,
    "start_time": "2024-10-31T15:59:03.236Z"
   },
   {
    "duration": 6,
    "start_time": "2024-10-31T16:07:57.947Z"
   },
   {
    "duration": 3,
    "start_time": "2024-10-31T16:08:00.509Z"
   },
   {
    "duration": 18,
    "start_time": "2024-10-31T16:08:03.061Z"
   },
   {
    "duration": 11,
    "start_time": "2024-10-31T16:08:15.949Z"
   },
   {
    "duration": 5,
    "start_time": "2024-10-31T16:09:34.348Z"
   },
   {
    "duration": 3,
    "start_time": "2024-10-31T16:09:36.366Z"
   },
   {
    "duration": 12,
    "start_time": "2024-10-31T16:09:38.654Z"
   },
   {
    "duration": 11,
    "start_time": "2024-10-31T16:09:43.709Z"
   },
   {
    "duration": 10,
    "start_time": "2024-10-31T16:09:57.309Z"
   },
   {
    "duration": 17,
    "start_time": "2024-10-31T16:10:00.461Z"
   },
   {
    "duration": 3,
    "start_time": "2024-10-31T16:10:11.125Z"
   },
   {
    "duration": 5,
    "start_time": "2024-10-31T16:10:11.575Z"
   },
   {
    "duration": 3,
    "start_time": "2024-10-31T16:10:12.031Z"
   },
   {
    "duration": 11,
    "start_time": "2024-10-31T16:10:12.788Z"
   },
   {
    "duration": 10,
    "start_time": "2024-10-31T16:11:13.982Z"
   },
   {
    "duration": 5,
    "start_time": "2024-10-31T16:11:44.229Z"
   },
   {
    "duration": 4,
    "start_time": "2024-10-31T16:12:38.757Z"
   },
   {
    "duration": 3,
    "start_time": "2024-10-31T16:12:53.017Z"
   },
   {
    "duration": 4,
    "start_time": "2024-10-31T16:13:17.618Z"
   },
   {
    "duration": 4,
    "start_time": "2024-10-31T16:13:26.753Z"
   },
   {
    "duration": 350,
    "start_time": "2024-10-31T16:14:19.384Z"
   },
   {
    "duration": 12,
    "start_time": "2024-10-31T16:14:33.657Z"
   },
   {
    "duration": 2,
    "start_time": "2024-10-31T16:15:21.646Z"
   },
   {
    "duration": 3,
    "start_time": "2024-10-31T16:15:22.054Z"
   },
   {
    "duration": 17,
    "start_time": "2024-10-31T16:15:25.089Z"
   },
   {
    "duration": 10,
    "start_time": "2024-10-31T16:15:31.688Z"
   },
   {
    "duration": 16,
    "start_time": "2024-10-31T16:15:32.233Z"
   },
   {
    "duration": 2,
    "start_time": "2024-10-31T16:15:32.458Z"
   },
   {
    "duration": 2,
    "start_time": "2024-10-31T16:15:32.656Z"
   },
   {
    "duration": 5,
    "start_time": "2024-10-31T16:15:33.211Z"
   },
   {
    "duration": 35,
    "start_time": "2024-10-31T16:15:36.562Z"
   },
   {
    "duration": 2,
    "start_time": "2024-10-31T16:16:10.084Z"
   },
   {
    "duration": 23,
    "start_time": "2024-10-31T16:16:10.785Z"
   },
   {
    "duration": 10,
    "start_time": "2024-10-31T16:16:11.506Z"
   },
   {
    "duration": 18,
    "start_time": "2024-10-31T16:16:12.866Z"
   },
   {
    "duration": 3,
    "start_time": "2024-10-31T16:16:14.970Z"
   },
   {
    "duration": 140,
    "start_time": "2024-10-31T16:16:49.698Z"
   },
   {
    "duration": 5,
    "start_time": "2024-10-31T16:16:55.610Z"
   },
   {
    "duration": 12,
    "start_time": "2024-10-31T16:17:10.125Z"
   },
   {
    "duration": 14,
    "start_time": "2024-10-31T16:17:12.725Z"
   },
   {
    "duration": 3,
    "start_time": "2024-10-31T16:17:18.107Z"
   },
   {
    "duration": 2,
    "start_time": "2024-10-31T16:17:28.843Z"
   },
   {
    "duration": 42,
    "start_time": "2024-10-31T16:19:14.514Z"
   },
   {
    "duration": 10,
    "start_time": "2024-10-31T16:19:21.124Z"
   },
   {
    "duration": 5,
    "start_time": "2024-10-31T16:20:33.634Z"
   },
   {
    "duration": 23,
    "start_time": "2024-10-31T16:20:37.853Z"
   },
   {
    "duration": 5,
    "start_time": "2024-10-31T16:20:49.471Z"
   },
   {
    "duration": 6,
    "start_time": "2024-10-31T16:20:49.895Z"
   },
   {
    "duration": 11,
    "start_time": "2024-10-31T16:20:54.973Z"
   },
   {
    "duration": 3,
    "start_time": "2024-10-31T16:21:05.694Z"
   },
   {
    "duration": 23,
    "start_time": "2024-10-31T16:21:06.174Z"
   },
   {
    "duration": 12,
    "start_time": "2024-10-31T16:21:06.604Z"
   },
   {
    "duration": 20,
    "start_time": "2024-10-31T16:21:06.846Z"
   },
   {
    "duration": 3,
    "start_time": "2024-10-31T16:21:07.078Z"
   },
   {
    "duration": 5,
    "start_time": "2024-10-31T16:21:07.293Z"
   },
   {
    "duration": 7,
    "start_time": "2024-10-31T16:21:07.510Z"
   },
   {
    "duration": 11,
    "start_time": "2024-10-31T16:21:07.769Z"
   },
   {
    "duration": 2806,
    "start_time": "2024-10-31T20:29:07.176Z"
   },
   {
    "duration": 38,
    "start_time": "2024-10-31T20:29:09.984Z"
   },
   {
    "duration": 15,
    "start_time": "2024-10-31T20:29:10.024Z"
   },
   {
    "duration": 19,
    "start_time": "2024-10-31T20:29:10.040Z"
   },
   {
    "duration": 3,
    "start_time": "2024-10-31T20:29:10.062Z"
   },
   {
    "duration": 5,
    "start_time": "2024-10-31T20:29:10.067Z"
   },
   {
    "duration": 7,
    "start_time": "2024-10-31T20:29:10.074Z"
   },
   {
    "duration": 46,
    "start_time": "2024-10-31T20:29:10.082Z"
   },
   {
    "duration": 5,
    "start_time": "2024-10-31T20:29:55.837Z"
   },
   {
    "duration": 3,
    "start_time": "2024-10-31T20:29:56.301Z"
   },
   {
    "duration": 11,
    "start_time": "2024-10-31T20:29:58.989Z"
   },
   {
    "duration": 5,
    "start_time": "2024-10-31T20:30:26.645Z"
   },
   {
    "duration": 5,
    "start_time": "2024-10-31T20:30:33.717Z"
   },
   {
    "duration": 4,
    "start_time": "2024-10-31T20:30:36.572Z"
   },
   {
    "duration": 12,
    "start_time": "2024-10-31T20:30:37.039Z"
   },
   {
    "duration": 11,
    "start_time": "2024-10-31T20:30:46.317Z"
   },
   {
    "duration": 10,
    "start_time": "2024-10-31T20:31:28.662Z"
   },
   {
    "duration": 4,
    "start_time": "2024-10-31T20:31:29.477Z"
   },
   {
    "duration": 13,
    "start_time": "2024-10-31T20:31:30.006Z"
   },
   {
    "duration": 11,
    "start_time": "2024-10-31T20:31:38.230Z"
   },
   {
    "duration": 4,
    "start_time": "2024-10-31T20:32:26.815Z"
   },
   {
    "duration": 10,
    "start_time": "2024-10-31T20:32:29.817Z"
   },
   {
    "duration": 5,
    "start_time": "2024-10-31T20:32:42.822Z"
   },
   {
    "duration": 3,
    "start_time": "2024-10-31T20:32:43.944Z"
   },
   {
    "duration": 11,
    "start_time": "2024-10-31T20:32:44.310Z"
   },
   {
    "duration": 919,
    "start_time": "2024-10-31T20:33:28.374Z"
   },
   {
    "duration": 5,
    "start_time": "2024-10-31T20:34:04.296Z"
   },
   {
    "duration": 4,
    "start_time": "2024-10-31T20:34:06.815Z"
   },
   {
    "duration": 11,
    "start_time": "2024-10-31T20:34:07.151Z"
   },
   {
    "duration": 12,
    "start_time": "2024-10-31T20:34:13.135Z"
   },
   {
    "duration": 5,
    "start_time": "2024-10-31T20:34:55.723Z"
   },
   {
    "duration": 79,
    "start_time": "2024-10-31T20:34:59.327Z"
   },
   {
    "duration": 3,
    "start_time": "2024-10-31T20:42:36.861Z"
   },
   {
    "duration": 3,
    "start_time": "2024-10-31T20:42:39.699Z"
   },
   {
    "duration": 10,
    "start_time": "2024-10-31T20:42:46.398Z"
   },
   {
    "duration": 25,
    "start_time": "2024-10-31T20:42:52.773Z"
   },
   {
    "duration": 11,
    "start_time": "2024-10-31T20:42:53.270Z"
   },
   {
    "duration": 19,
    "start_time": "2024-10-31T20:42:53.468Z"
   },
   {
    "duration": 3,
    "start_time": "2024-10-31T20:42:53.685Z"
   },
   {
    "duration": 3,
    "start_time": "2024-10-31T20:42:53.901Z"
   },
   {
    "duration": 7,
    "start_time": "2024-10-31T20:42:54.069Z"
   },
   {
    "duration": 10,
    "start_time": "2024-10-31T20:42:54.269Z"
   },
   {
    "duration": 3,
    "start_time": "2024-10-31T20:43:50.936Z"
   },
   {
    "duration": 3,
    "start_time": "2024-10-31T20:43:53.906Z"
   },
   {
    "duration": 11,
    "start_time": "2024-10-31T20:43:54.294Z"
   },
   {
    "duration": 4,
    "start_time": "2024-10-31T20:46:11.768Z"
   },
   {
    "duration": 4,
    "start_time": "2024-10-31T20:47:17.865Z"
   },
   {
    "duration": 3,
    "start_time": "2024-10-31T20:47:18.220Z"
   },
   {
    "duration": 11,
    "start_time": "2024-10-31T20:47:18.619Z"
   },
   {
    "duration": 11,
    "start_time": "2024-10-31T20:47:32.434Z"
   },
   {
    "duration": 4,
    "start_time": "2024-10-31T20:47:55.561Z"
   },
   {
    "duration": 3,
    "start_time": "2024-10-31T20:47:57.233Z"
   },
   {
    "duration": 13,
    "start_time": "2024-10-31T20:47:57.498Z"
   },
   {
    "duration": 11,
    "start_time": "2024-10-31T20:48:02.513Z"
   },
   {
    "duration": 3,
    "start_time": "2024-10-31T20:49:32.218Z"
   },
   {
    "duration": 3,
    "start_time": "2024-10-31T20:49:56.002Z"
   },
   {
    "duration": 11,
    "start_time": "2024-10-31T20:49:56.282Z"
   },
   {
    "duration": 5,
    "start_time": "2024-10-31T20:52:05.622Z"
   },
   {
    "duration": 4,
    "start_time": "2024-10-31T20:52:12.618Z"
   },
   {
    "duration": 9,
    "start_time": "2024-10-31T20:52:46.325Z"
   },
   {
    "duration": 5,
    "start_time": "2024-10-31T21:05:52.223Z"
   },
   {
    "duration": 5,
    "start_time": "2024-10-31T21:05:53.047Z"
   },
   {
    "duration": 3,
    "start_time": "2024-10-31T21:05:53.361Z"
   },
   {
    "duration": 12,
    "start_time": "2024-10-31T21:05:53.734Z"
   },
   {
    "duration": 15,
    "start_time": "2024-10-31T21:07:24.392Z"
   },
   {
    "duration": 4,
    "start_time": "2024-10-31T21:07:24.737Z"
   },
   {
    "duration": 3,
    "start_time": "2024-10-31T21:07:25.072Z"
   },
   {
    "duration": 10,
    "start_time": "2024-10-31T21:07:25.664Z"
   },
   {
    "duration": 3,
    "start_time": "2024-10-31T21:07:37.296Z"
   },
   {
    "duration": 7,
    "start_time": "2024-10-31T21:07:37.647Z"
   },
   {
    "duration": 4,
    "start_time": "2024-10-31T21:07:37.991Z"
   },
   {
    "duration": 3,
    "start_time": "2024-10-31T21:07:38.312Z"
   },
   {
    "duration": 12,
    "start_time": "2024-10-31T21:07:38.664Z"
   },
   {
    "duration": 8,
    "start_time": "2024-10-31T21:09:25.762Z"
   },
   {
    "duration": 6,
    "start_time": "2024-10-31T21:09:26.081Z"
   },
   {
    "duration": 4,
    "start_time": "2024-10-31T21:09:26.459Z"
   },
   {
    "duration": 4,
    "start_time": "2024-10-31T21:10:10.326Z"
   },
   {
    "duration": 5,
    "start_time": "2024-10-31T21:10:24.172Z"
   },
   {
    "duration": 19,
    "start_time": "2024-10-31T21:10:39.860Z"
   },
   {
    "duration": 5,
    "start_time": "2024-10-31T21:41:41.788Z"
   },
   {
    "duration": 5,
    "start_time": "2024-10-31T21:41:43.611Z"
   },
   {
    "duration": 3,
    "start_time": "2024-10-31T21:41:43.807Z"
   },
   {
    "duration": 10,
    "start_time": "2024-10-31T21:41:44.156Z"
   },
   {
    "duration": 11,
    "start_time": "2024-10-31T21:41:50.529Z"
   },
   {
    "duration": 14,
    "start_time": "2024-10-31T21:42:37.743Z"
   },
   {
    "duration": 5,
    "start_time": "2024-10-31T21:42:43.932Z"
   },
   {
    "duration": 4,
    "start_time": "2024-10-31T21:42:59.541Z"
   },
   {
    "duration": 5,
    "start_time": "2024-10-31T21:43:02.613Z"
   },
   {
    "duration": 5,
    "start_time": "2024-10-31T21:43:08.291Z"
   },
   {
    "duration": 6,
    "start_time": "2024-10-31T21:43:18.363Z"
   },
   {
    "duration": 5,
    "start_time": "2024-10-31T21:43:48.950Z"
   },
   {
    "duration": 21,
    "start_time": "2024-10-31T21:47:19.153Z"
   },
   {
    "duration": 2747,
    "start_time": "2024-11-01T15:58:41.125Z"
   },
   {
    "duration": 37,
    "start_time": "2024-11-01T15:58:43.875Z"
   },
   {
    "duration": 28,
    "start_time": "2024-11-01T15:58:43.914Z"
   },
   {
    "duration": 21,
    "start_time": "2024-11-01T15:58:43.944Z"
   },
   {
    "duration": 3,
    "start_time": "2024-11-01T15:58:43.968Z"
   },
   {
    "duration": 6,
    "start_time": "2024-11-01T15:58:43.972Z"
   },
   {
    "duration": 32,
    "start_time": "2024-11-01T15:58:43.980Z"
   },
   {
    "duration": 7,
    "start_time": "2024-11-01T15:58:44.014Z"
   },
   {
    "duration": 17,
    "start_time": "2024-11-01T15:58:44.023Z"
   },
   {
    "duration": 7,
    "start_time": "2024-11-01T15:58:44.042Z"
   },
   {
    "duration": 4,
    "start_time": "2024-11-01T16:00:18.150Z"
   },
   {
    "duration": 11,
    "start_time": "2024-11-01T16:00:27.309Z"
   },
   {
    "duration": 224,
    "start_time": "2024-11-01T16:01:13.028Z"
   },
   {
    "duration": 6,
    "start_time": "2024-11-01T16:01:51.466Z"
   },
   {
    "duration": 4,
    "start_time": "2024-11-01T16:01:53.942Z"
   },
   {
    "duration": 12,
    "start_time": "2024-11-01T16:01:54.438Z"
   },
   {
    "duration": 6,
    "start_time": "2024-11-01T16:01:56.574Z"
   },
   {
    "duration": 12,
    "start_time": "2024-11-01T16:02:05.694Z"
   },
   {
    "duration": 25,
    "start_time": "2024-11-01T16:02:37.895Z"
   },
   {
    "duration": 139,
    "start_time": "2024-11-01T16:03:40.312Z"
   },
   {
    "duration": 85,
    "start_time": "2024-11-01T16:04:04.545Z"
   },
   {
    "duration": 149,
    "start_time": "2024-11-01T16:04:08.065Z"
   },
   {
    "duration": 3,
    "start_time": "2024-11-01T16:04:15.024Z"
   },
   {
    "duration": 11,
    "start_time": "2024-11-01T16:04:16.984Z"
   },
   {
    "duration": 75,
    "start_time": "2024-11-01T16:04:21.969Z"
   },
   {
    "duration": 5,
    "start_time": "2024-11-01T16:04:24.180Z"
   },
   {
    "duration": 4,
    "start_time": "2024-11-01T16:05:32.023Z"
   },
   {
    "duration": 3,
    "start_time": "2024-11-01T16:05:33.649Z"
   },
   {
    "duration": 16,
    "start_time": "2024-11-01T16:05:34.119Z"
   },
   {
    "duration": 3,
    "start_time": "2024-11-01T16:06:36.968Z"
   },
   {
    "duration": 22,
    "start_time": "2024-11-01T16:07:04.641Z"
   },
   {
    "duration": 5,
    "start_time": "2024-11-01T16:07:29.899Z"
   },
   {
    "duration": 22,
    "start_time": "2024-11-01T16:07:33.843Z"
   },
   {
    "duration": 11,
    "start_time": "2024-11-01T16:08:20.970Z"
   },
   {
    "duration": 3,
    "start_time": "2024-11-01T16:08:24.723Z"
   },
   {
    "duration": 25,
    "start_time": "2024-11-01T16:08:25.186Z"
   },
   {
    "duration": 11,
    "start_time": "2024-11-01T16:08:25.626Z"
   },
   {
    "duration": 19,
    "start_time": "2024-11-01T16:08:25.828Z"
   },
   {
    "duration": 3,
    "start_time": "2024-11-01T16:08:26.027Z"
   },
   {
    "duration": 6,
    "start_time": "2024-11-01T16:08:26.230Z"
   },
   {
    "duration": 4,
    "start_time": "2024-11-01T16:08:26.437Z"
   },
   {
    "duration": 7,
    "start_time": "2024-11-01T16:08:26.586Z"
   },
   {
    "duration": 12,
    "start_time": "2024-11-01T16:08:26.746Z"
   },
   {
    "duration": 6,
    "start_time": "2024-11-01T16:08:26.917Z"
   },
   {
    "duration": 22,
    "start_time": "2024-11-01T16:08:27.075Z"
   },
   {
    "duration": 4,
    "start_time": "2024-11-01T16:09:11.700Z"
   },
   {
    "duration": 4,
    "start_time": "2024-11-01T16:09:13.035Z"
   },
   {
    "duration": 10,
    "start_time": "2024-11-01T16:09:13.388Z"
   },
   {
    "duration": 5,
    "start_time": "2024-11-01T16:09:15.559Z"
   },
   {
    "duration": 23,
    "start_time": "2024-11-01T16:09:16.013Z"
   },
   {
    "duration": 2,
    "start_time": "2024-11-01T16:09:29.366Z"
   },
   {
    "duration": 25,
    "start_time": "2024-11-01T16:09:29.881Z"
   },
   {
    "duration": 11,
    "start_time": "2024-11-01T16:09:30.237Z"
   },
   {
    "duration": 19,
    "start_time": "2024-11-01T16:09:30.416Z"
   },
   {
    "duration": 3,
    "start_time": "2024-11-01T16:09:30.597Z"
   },
   {
    "duration": 6,
    "start_time": "2024-11-01T16:09:30.780Z"
   },
   {
    "duration": 581,
    "start_time": "2024-11-01T16:09:30.964Z"
   },
   {
    "duration": 0,
    "start_time": "2024-11-01T16:09:31.547Z"
   },
   {
    "duration": 0,
    "start_time": "2024-11-01T16:09:31.548Z"
   },
   {
    "duration": 0,
    "start_time": "2024-11-01T16:09:31.550Z"
   },
   {
    "duration": 23,
    "start_time": "2024-11-01T16:09:32.229Z"
   },
   {
    "duration": 4,
    "start_time": "2024-11-01T16:09:57.645Z"
   },
   {
    "duration": 7,
    "start_time": "2024-11-01T16:09:58.315Z"
   },
   {
    "duration": 11,
    "start_time": "2024-11-01T16:09:58.603Z"
   },
   {
    "duration": 5,
    "start_time": "2024-11-01T16:10:00.508Z"
   },
   {
    "duration": 22,
    "start_time": "2024-11-01T16:10:00.788Z"
   },
   {
    "duration": 10,
    "start_time": "2024-11-01T16:11:51.313Z"
   },
   {
    "duration": 5,
    "start_time": "2024-11-01T16:29:25.445Z"
   },
   {
    "duration": 4,
    "start_time": "2024-11-01T16:29:48.967Z"
   },
   {
    "duration": 5,
    "start_time": "2024-11-01T16:30:09.299Z"
   },
   {
    "duration": 5,
    "start_time": "2024-11-01T16:30:21.683Z"
   },
   {
    "duration": 6,
    "start_time": "2024-11-01T16:30:32.101Z"
   },
   {
    "duration": 5,
    "start_time": "2024-11-01T16:30:48.308Z"
   },
   {
    "duration": 5,
    "start_time": "2024-11-01T16:31:03.300Z"
   },
   {
    "duration": 24,
    "start_time": "2024-11-01T16:48:43.219Z"
   },
   {
    "duration": 3,
    "start_time": "2024-11-01T16:48:48.453Z"
   },
   {
    "duration": 71,
    "start_time": "2024-11-01T17:08:15.905Z"
   },
   {
    "duration": 54,
    "start_time": "2024-11-01T17:08:19.993Z"
   },
   {
    "duration": 6,
    "start_time": "2024-11-01T17:09:01.391Z"
   },
   {
    "duration": 4,
    "start_time": "2024-11-01T17:09:15.875Z"
   },
   {
    "duration": 6,
    "start_time": "2024-11-01T17:09:16.180Z"
   },
   {
    "duration": 13,
    "start_time": "2024-11-01T17:09:16.602Z"
   },
   {
    "duration": 5,
    "start_time": "2024-11-01T17:14:34.847Z"
   },
   {
    "duration": 3,
    "start_time": "2024-11-01T17:14:40.127Z"
   },
   {
    "duration": 5,
    "start_time": "2024-11-01T17:15:04.635Z"
   },
   {
    "duration": 6,
    "start_time": "2024-11-01T17:15:11.840Z"
   },
   {
    "duration": 6,
    "start_time": "2024-11-01T17:15:36.220Z"
   },
   {
    "duration": 7,
    "start_time": "2024-11-01T17:15:41.287Z"
   },
   {
    "duration": 6,
    "start_time": "2024-11-01T17:16:17.409Z"
   },
   {
    "duration": 2,
    "start_time": "2024-11-01T17:16:30.914Z"
   },
   {
    "duration": 11,
    "start_time": "2024-11-01T17:16:31.536Z"
   },
   {
    "duration": 7,
    "start_time": "2024-11-01T17:16:31.992Z"
   },
   {
    "duration": 24,
    "start_time": "2024-11-01T17:16:34.488Z"
   },
   {
    "duration": 2,
    "start_time": "2024-11-01T17:16:41.964Z"
   },
   {
    "duration": 27,
    "start_time": "2024-11-01T17:16:42.325Z"
   },
   {
    "duration": 10,
    "start_time": "2024-11-01T17:16:42.657Z"
   },
   {
    "duration": 20,
    "start_time": "2024-11-01T17:16:42.834Z"
   },
   {
    "duration": 3,
    "start_time": "2024-11-01T17:16:43.023Z"
   },
   {
    "duration": 6,
    "start_time": "2024-11-01T17:16:43.186Z"
   },
   {
    "duration": 4,
    "start_time": "2024-11-01T17:16:43.424Z"
   },
   {
    "duration": 2,
    "start_time": "2024-11-01T17:16:43.619Z"
   },
   {
    "duration": 12,
    "start_time": "2024-11-01T17:16:43.776Z"
   },
   {
    "duration": 7,
    "start_time": "2024-11-01T17:16:43.968Z"
   },
   {
    "duration": 22,
    "start_time": "2024-11-01T17:16:44.146Z"
   },
   {
    "duration": 11,
    "start_time": "2024-11-01T17:31:01.108Z"
   },
   {
    "duration": 6,
    "start_time": "2024-11-01T17:33:32.500Z"
   },
   {
    "duration": 11,
    "start_time": "2024-11-01T17:33:34.062Z"
   },
   {
    "duration": 7,
    "start_time": "2024-11-01T17:33:53.045Z"
   },
   {
    "duration": 21,
    "start_time": "2024-11-01T17:33:54.407Z"
   },
   {
    "duration": 4,
    "start_time": "2024-11-01T17:35:48.127Z"
   },
   {
    "duration": 12,
    "start_time": "2024-11-01T17:35:49.844Z"
   },
   {
    "duration": 6,
    "start_time": "2024-11-01T17:36:14.039Z"
   },
   {
    "duration": 12,
    "start_time": "2024-11-01T17:36:17.198Z"
   },
   {
    "duration": 3,
    "start_time": "2024-11-01T17:36:24.951Z"
   },
   {
    "duration": 25,
    "start_time": "2024-11-01T17:36:25.352Z"
   },
   {
    "duration": 12,
    "start_time": "2024-11-01T17:36:26.031Z"
   },
   {
    "duration": 19,
    "start_time": "2024-11-01T17:36:26.067Z"
   },
   {
    "duration": 3,
    "start_time": "2024-11-01T17:36:26.105Z"
   },
   {
    "duration": 5,
    "start_time": "2024-11-01T17:36:26.139Z"
   },
   {
    "duration": 4,
    "start_time": "2024-11-01T17:36:26.174Z"
   },
   {
    "duration": 5,
    "start_time": "2024-11-01T17:36:26.198Z"
   },
   {
    "duration": 12,
    "start_time": "2024-11-01T17:36:26.238Z"
   },
   {
    "duration": 7,
    "start_time": "2024-11-01T17:36:26.280Z"
   },
   {
    "duration": 23,
    "start_time": "2024-11-01T17:36:26.302Z"
   },
   {
    "duration": 13,
    "start_time": "2024-11-01T17:43:00.319Z"
   },
   {
    "duration": 19,
    "start_time": "2024-11-01T17:43:12.101Z"
   },
   {
    "duration": 5,
    "start_time": "2024-11-01T17:49:27.738Z"
   },
   {
    "duration": 5,
    "start_time": "2024-11-01T17:49:34.914Z"
   },
   {
    "duration": 12,
    "start_time": "2024-11-01T17:49:35.907Z"
   },
   {
    "duration": 1286,
    "start_time": "2024-11-01T17:49:38.827Z"
   },
   {
    "duration": 1569,
    "start_time": "2024-11-01T17:49:40.115Z"
   },
   {
    "duration": 939,
    "start_time": "2024-11-01T17:49:49.975Z"
   },
   {
    "duration": 24,
    "start_time": "2024-11-01T17:50:01.724Z"
   },
   {
    "duration": 11,
    "start_time": "2024-11-01T17:50:02.459Z"
   },
   {
    "duration": 22,
    "start_time": "2024-11-01T17:50:04.901Z"
   },
   {
    "duration": 3,
    "start_time": "2024-11-01T17:50:07.076Z"
   },
   {
    "duration": 7,
    "start_time": "2024-11-01T17:50:07.323Z"
   },
   {
    "duration": 3,
    "start_time": "2024-11-01T17:50:07.695Z"
   },
   {
    "duration": 6,
    "start_time": "2024-11-01T17:50:07.924Z"
   },
   {
    "duration": 5,
    "start_time": "2024-11-01T17:50:08.173Z"
   },
   {
    "duration": 13,
    "start_time": "2024-11-01T17:50:08.883Z"
   },
   {
    "duration": 814,
    "start_time": "2024-11-01T17:50:14.747Z"
   },
   {
    "duration": 814,
    "start_time": "2024-11-01T17:51:41.005Z"
   },
   {
    "duration": 25,
    "start_time": "2024-11-01T17:51:41.821Z"
   },
   {
    "duration": 14,
    "start_time": "2024-11-01T17:51:41.847Z"
   },
   {
    "duration": 22,
    "start_time": "2024-11-01T17:51:41.863Z"
   },
   {
    "duration": 24,
    "start_time": "2024-11-01T17:51:41.888Z"
   },
   {
    "duration": 6,
    "start_time": "2024-11-01T17:51:41.913Z"
   },
   {
    "duration": 4,
    "start_time": "2024-11-01T17:51:41.921Z"
   },
   {
    "duration": 6,
    "start_time": "2024-11-01T17:51:41.926Z"
   },
   {
    "duration": 5,
    "start_time": "2024-11-01T17:51:41.933Z"
   },
   {
    "duration": 11,
    "start_time": "2024-11-01T17:51:41.939Z"
   },
   {
    "duration": 2516,
    "start_time": "2024-11-01T17:51:41.951Z"
   },
   {
    "duration": 2,
    "start_time": "2024-11-01T17:53:52.605Z"
   },
   {
    "duration": 13,
    "start_time": "2024-11-01T17:53:52.930Z"
   },
   {
    "duration": 912,
    "start_time": "2024-11-01T17:53:53.286Z"
   },
   {
    "duration": 771,
    "start_time": "2024-11-01T17:53:56.278Z"
   },
   {
    "duration": 4,
    "start_time": "2024-11-01T17:54:08.455Z"
   },
   {
    "duration": 593,
    "start_time": "2024-11-01T17:55:15.096Z"
   },
   {
    "duration": 2,
    "start_time": "2024-11-01T17:55:38.637Z"
   },
   {
    "duration": 24,
    "start_time": "2024-11-01T17:55:39.204Z"
   },
   {
    "duration": 10,
    "start_time": "2024-11-01T17:55:39.780Z"
   },
   {
    "duration": 20,
    "start_time": "2024-11-01T17:55:40.021Z"
   },
   {
    "duration": 4,
    "start_time": "2024-11-01T17:55:40.244Z"
   },
   {
    "duration": 6,
    "start_time": "2024-11-01T17:55:40.460Z"
   },
   {
    "duration": 4,
    "start_time": "2024-11-01T17:55:40.685Z"
   },
   {
    "duration": 6,
    "start_time": "2024-11-01T17:55:40.861Z"
   },
   {
    "duration": 5,
    "start_time": "2024-11-01T17:55:41.087Z"
   },
   {
    "duration": 12,
    "start_time": "2024-11-01T17:55:41.275Z"
   },
   {
    "duration": 783,
    "start_time": "2024-11-01T17:55:41.511Z"
   },
   {
    "duration": 212,
    "start_time": "2024-11-01T17:57:25.734Z"
   },
   {
    "duration": 46,
    "start_time": "2024-11-01T17:57:28.295Z"
   },
   {
    "duration": 4,
    "start_time": "2024-11-01T17:57:32.822Z"
   },
   {
    "duration": 42,
    "start_time": "2024-11-01T17:57:51.631Z"
   },
   {
    "duration": 5,
    "start_time": "2024-11-01T17:58:23.371Z"
   },
   {
    "duration": 46,
    "start_time": "2024-11-01T17:58:26.551Z"
   },
   {
    "duration": 13,
    "start_time": "2024-11-01T17:58:29.062Z"
   },
   {
    "duration": 950,
    "start_time": "2024-11-01T17:58:29.970Z"
   },
   {
    "duration": 53,
    "start_time": "2024-11-01T17:58:38.008Z"
   },
   {
    "duration": 822,
    "start_time": "2024-11-01T17:59:01.785Z"
   },
   {
    "duration": 24,
    "start_time": "2024-11-01T17:59:02.609Z"
   },
   {
    "duration": 13,
    "start_time": "2024-11-01T17:59:02.635Z"
   },
   {
    "duration": 19,
    "start_time": "2024-11-01T17:59:02.650Z"
   },
   {
    "duration": 3,
    "start_time": "2024-11-01T17:59:02.671Z"
   },
   {
    "duration": 6,
    "start_time": "2024-11-01T17:59:02.675Z"
   },
   {
    "duration": 4,
    "start_time": "2024-11-01T17:59:02.683Z"
   },
   {
    "duration": 6,
    "start_time": "2024-11-01T17:59:02.712Z"
   },
   {
    "duration": 4,
    "start_time": "2024-11-01T17:59:02.720Z"
   },
   {
    "duration": 11,
    "start_time": "2024-11-01T17:59:02.727Z"
   },
   {
    "duration": 10,
    "start_time": "2024-11-01T17:59:02.740Z"
   },
   {
    "duration": 10,
    "start_time": "2024-11-01T17:59:24.423Z"
   },
   {
    "duration": 5,
    "start_time": "2024-11-01T17:59:29.065Z"
   },
   {
    "duration": 4,
    "start_time": "2024-11-01T17:59:29.500Z"
   },
   {
    "duration": 11,
    "start_time": "2024-11-01T17:59:29.927Z"
   },
   {
    "duration": 12,
    "start_time": "2024-11-01T17:59:41.031Z"
   },
   {
    "duration": 2513,
    "start_time": "2024-11-01T21:23:52.905Z"
   },
   {
    "duration": 36,
    "start_time": "2024-11-01T21:23:55.420Z"
   },
   {
    "duration": 14,
    "start_time": "2024-11-01T21:23:55.457Z"
   },
   {
    "duration": 22,
    "start_time": "2024-11-01T21:23:55.473Z"
   },
   {
    "duration": 2,
    "start_time": "2024-11-01T21:23:55.498Z"
   },
   {
    "duration": 5,
    "start_time": "2024-11-01T21:23:55.502Z"
   },
   {
    "duration": 4,
    "start_time": "2024-11-01T21:23:55.509Z"
   },
   {
    "duration": 6,
    "start_time": "2024-11-01T21:23:55.515Z"
   },
   {
    "duration": 4,
    "start_time": "2024-11-01T21:23:55.524Z"
   },
   {
    "duration": 13,
    "start_time": "2024-11-01T21:23:55.530Z"
   },
   {
    "duration": 45,
    "start_time": "2024-11-01T21:23:55.545Z"
   },
   {
    "duration": 10,
    "start_time": "2024-11-01T21:25:02.732Z"
   },
   {
    "duration": 93,
    "start_time": "2024-11-01T21:25:42.852Z"
   },
   {
    "duration": 297,
    "start_time": "2024-11-01T21:26:15.267Z"
   },
   {
    "duration": 86,
    "start_time": "2024-11-01T21:26:26.321Z"
   },
   {
    "duration": 12,
    "start_time": "2024-11-01T21:39:21.932Z"
   },
   {
    "duration": 4,
    "start_time": "2024-11-01T21:39:34.916Z"
   },
   {
    "duration": 11,
    "start_time": "2024-11-01T21:39:36.031Z"
   },
   {
    "duration": 11,
    "start_time": "2024-11-01T21:39:51.761Z"
   },
   {
    "duration": 3,
    "start_time": "2024-11-01T21:39:57.904Z"
   },
   {
    "duration": 23,
    "start_time": "2024-11-01T21:39:58.472Z"
   },
   {
    "duration": 11,
    "start_time": "2024-11-01T21:39:59.015Z"
   },
   {
    "duration": 17,
    "start_time": "2024-11-01T21:39:59.045Z"
   },
   {
    "duration": 2,
    "start_time": "2024-11-01T21:39:59.081Z"
   },
   {
    "duration": 5,
    "start_time": "2024-11-01T21:39:59.115Z"
   },
   {
    "duration": 3,
    "start_time": "2024-11-01T21:39:59.145Z"
   },
   {
    "duration": 5,
    "start_time": "2024-11-01T21:39:59.179Z"
   },
   {
    "duration": 10,
    "start_time": "2024-11-01T21:39:59.269Z"
   },
   {
    "duration": 10,
    "start_time": "2024-11-01T21:39:59.305Z"
   },
   {
    "duration": 3,
    "start_time": "2024-11-01T21:43:51.827Z"
   },
   {
    "duration": 3,
    "start_time": "2024-11-01T21:44:37.200Z"
   },
   {
    "duration": 11,
    "start_time": "2024-11-01T21:44:40.896Z"
   },
   {
    "duration": 9,
    "start_time": "2024-11-01T21:44:42.232Z"
   },
   {
    "duration": 12,
    "start_time": "2024-11-01T21:46:26.572Z"
   },
   {
    "duration": 11,
    "start_time": "2024-11-01T22:10:50.814Z"
   },
   {
    "duration": 11,
    "start_time": "2024-11-01T22:10:54.196Z"
   },
   {
    "duration": 4,
    "start_time": "2024-11-01T22:11:19.776Z"
   },
   {
    "duration": 11,
    "start_time": "2024-11-01T22:11:21.727Z"
   },
   {
    "duration": 6,
    "start_time": "2024-11-01T22:16:32.924Z"
   },
   {
    "duration": 14,
    "start_time": "2024-11-01T22:16:33.996Z"
   },
   {
    "duration": 4,
    "start_time": "2024-11-01T22:29:41.358Z"
   },
   {
    "duration": 4,
    "start_time": "2024-11-01T22:29:51.004Z"
   },
   {
    "duration": 6,
    "start_time": "2024-11-01T22:30:35.941Z"
   },
   {
    "duration": 6,
    "start_time": "2024-11-01T22:30:38.917Z"
   },
   {
    "duration": 7,
    "start_time": "2024-11-01T22:31:46.030Z"
   },
   {
    "duration": 7,
    "start_time": "2024-11-01T22:31:49.095Z"
   },
   {
    "duration": 7,
    "start_time": "2024-11-01T22:32:40.671Z"
   },
   {
    "duration": 9,
    "start_time": "2024-11-01T22:38:09.043Z"
   },
   {
    "duration": 5,
    "start_time": "2024-11-01T22:38:28.096Z"
   },
   {
    "duration": 7,
    "start_time": "2024-11-01T22:38:35.835Z"
   },
   {
    "duration": 8,
    "start_time": "2024-11-01T22:38:57.012Z"
   },
   {
    "duration": 162,
    "start_time": "2024-11-01T22:42:29.063Z"
   },
   {
    "duration": 214,
    "start_time": "2024-11-01T22:44:06.841Z"
   },
   {
    "duration": 157,
    "start_time": "2024-11-01T22:44:12.536Z"
   },
   {
    "duration": 188,
    "start_time": "2024-11-01T22:44:24.976Z"
   },
   {
    "duration": 155,
    "start_time": "2024-11-01T22:44:32.793Z"
   },
   {
    "duration": 151,
    "start_time": "2024-11-01T22:44:39.489Z"
   },
   {
    "duration": 169,
    "start_time": "2024-11-01T22:44:48.966Z"
   },
   {
    "duration": 170,
    "start_time": "2024-11-01T22:45:49.221Z"
   },
   {
    "duration": 2862,
    "start_time": "2024-11-02T02:29:12.703Z"
   },
   {
    "duration": 33,
    "start_time": "2024-11-02T02:29:15.568Z"
   },
   {
    "duration": 17,
    "start_time": "2024-11-02T02:29:15.603Z"
   },
   {
    "duration": 23,
    "start_time": "2024-11-02T02:29:15.623Z"
   },
   {
    "duration": 3,
    "start_time": "2024-11-02T02:29:15.649Z"
   },
   {
    "duration": 7,
    "start_time": "2024-11-02T02:29:15.654Z"
   },
   {
    "duration": 3,
    "start_time": "2024-11-02T02:29:15.662Z"
   },
   {
    "duration": 6,
    "start_time": "2024-11-02T02:29:15.666Z"
   },
   {
    "duration": 3,
    "start_time": "2024-11-02T02:29:15.673Z"
   },
   {
    "duration": 8,
    "start_time": "2024-11-02T02:29:15.704Z"
   },
   {
    "duration": 10,
    "start_time": "2024-11-02T02:29:15.716Z"
   },
   {
    "duration": 232,
    "start_time": "2024-11-02T02:29:15.728Z"
   },
   {
    "duration": 129,
    "start_time": "2024-11-02T02:30:44.640Z"
   },
   {
    "duration": 8,
    "start_time": "2024-11-02T02:38:45.055Z"
   },
   {
    "duration": 6,
    "start_time": "2024-11-02T02:38:55.696Z"
   },
   {
    "duration": 8,
    "start_time": "2024-11-02T02:39:38.704Z"
   },
   {
    "duration": 6,
    "start_time": "2024-11-02T02:39:41.270Z"
   },
   {
    "duration": 10,
    "start_time": "2024-11-02T02:41:17.175Z"
   },
   {
    "duration": 7,
    "start_time": "2024-11-02T02:41:19.542Z"
   },
   {
    "duration": 8,
    "start_time": "2024-11-02T02:41:24.374Z"
   },
   {
    "duration": 6,
    "start_time": "2024-11-02T02:41:24.637Z"
   },
   {
    "duration": 338,
    "start_time": "2024-11-02T02:42:36.719Z"
   },
   {
    "duration": 6,
    "start_time": "2024-11-02T02:42:38.872Z"
   },
   {
    "duration": 3,
    "start_time": "2024-11-02T02:42:45.720Z"
   },
   {
    "duration": 5,
    "start_time": "2024-11-02T02:42:46.327Z"
   },
   {
    "duration": 17,
    "start_time": "2024-11-02T02:43:01.846Z"
   },
   {
    "duration": 7,
    "start_time": "2024-11-02T02:43:24.911Z"
   },
   {
    "duration": 3,
    "start_time": "2024-11-02T02:46:55.139Z"
   },
   {
    "duration": 4,
    "start_time": "2024-11-02T02:46:57.343Z"
   },
   {
    "duration": 7,
    "start_time": "2024-11-02T02:47:01.258Z"
   },
   {
    "duration": 3,
    "start_time": "2024-11-02T02:47:25.016Z"
   },
   {
    "duration": 6,
    "start_time": "2024-11-02T02:47:27.003Z"
   },
   {
    "duration": 9,
    "start_time": "2024-11-02T02:47:29.692Z"
   },
   {
    "duration": 748,
    "start_time": "2024-11-02T02:47:38.565Z"
   },
   {
    "duration": 24,
    "start_time": "2024-11-02T02:47:39.315Z"
   },
   {
    "duration": 12,
    "start_time": "2024-11-02T02:47:39.341Z"
   },
   {
    "duration": 17,
    "start_time": "2024-11-02T02:47:39.355Z"
   },
   {
    "duration": 3,
    "start_time": "2024-11-02T02:47:39.374Z"
   },
   {
    "duration": 27,
    "start_time": "2024-11-02T02:47:39.378Z"
   },
   {
    "duration": 3,
    "start_time": "2024-11-02T02:47:39.407Z"
   },
   {
    "duration": 5,
    "start_time": "2024-11-02T02:47:39.412Z"
   },
   {
    "duration": 3,
    "start_time": "2024-11-02T02:47:39.419Z"
   },
   {
    "duration": 5,
    "start_time": "2024-11-02T02:47:39.426Z"
   },
   {
    "duration": 9,
    "start_time": "2024-11-02T02:47:39.432Z"
   },
   {
    "duration": 220,
    "start_time": "2024-11-02T02:47:39.442Z"
   },
   {
    "duration": 3,
    "start_time": "2024-11-02T02:47:39.664Z"
   },
   {
    "duration": 4,
    "start_time": "2024-11-02T02:47:39.669Z"
   },
   {
    "duration": 6,
    "start_time": "2024-11-02T02:47:39.676Z"
   },
   {
    "duration": 160,
    "start_time": "2024-11-02T02:49:07.775Z"
   },
   {
    "duration": 16,
    "start_time": "2024-11-02T02:49:19.037Z"
   },
   {
    "duration": 6,
    "start_time": "2024-11-02T02:50:36.247Z"
   },
   {
    "duration": 5,
    "start_time": "2024-11-02T02:50:37.277Z"
   },
   {
    "duration": 640,
    "start_time": "2024-11-02T02:51:20.550Z"
   },
   {
    "duration": 9,
    "start_time": "2024-11-02T02:51:29.286Z"
   },
   {
    "duration": 15,
    "start_time": "2024-11-02T02:51:32.149Z"
   },
   {
    "duration": 9,
    "start_time": "2024-11-02T02:52:12.903Z"
   },
   {
    "duration": 6,
    "start_time": "2024-11-02T02:52:13.510Z"
   },
   {
    "duration": 5,
    "start_time": "2024-11-02T03:07:42.035Z"
   },
   {
    "duration": 6,
    "start_time": "2024-11-02T03:07:44.107Z"
   },
   {
    "duration": 6,
    "start_time": "2024-11-02T03:07:56.125Z"
   },
   {
    "duration": 6,
    "start_time": "2024-11-02T03:08:08.156Z"
   },
   {
    "duration": 8,
    "start_time": "2024-11-02T03:08:08.772Z"
   },
   {
    "duration": 10,
    "start_time": "2024-11-02T03:08:28.846Z"
   },
   {
    "duration": 6,
    "start_time": "2024-11-02T03:12:54.336Z"
   },
   {
    "duration": 9,
    "start_time": "2024-11-02T03:13:11.434Z"
   },
   {
    "duration": 9,
    "start_time": "2024-11-02T03:13:32.000Z"
   },
   {
    "duration": 9,
    "start_time": "2024-11-02T03:14:06.240Z"
   },
   {
    "duration": 7,
    "start_time": "2024-11-02T03:15:23.865Z"
   },
   {
    "duration": 8,
    "start_time": "2024-11-02T03:15:24.465Z"
   },
   {
    "duration": 10,
    "start_time": "2024-11-02T03:17:02.385Z"
   },
   {
    "duration": 8,
    "start_time": "2024-11-02T03:17:03.362Z"
   },
   {
    "duration": 11,
    "start_time": "2024-11-02T03:17:18.591Z"
   },
   {
    "duration": 9,
    "start_time": "2024-11-02T03:17:19.218Z"
   },
   {
    "duration": 11,
    "start_time": "2024-11-02T03:19:25.124Z"
   },
   {
    "duration": 8,
    "start_time": "2024-11-02T03:19:25.531Z"
   },
   {
    "duration": 11,
    "start_time": "2024-11-02T03:19:51.878Z"
   },
   {
    "duration": 8,
    "start_time": "2024-11-02T03:19:52.188Z"
   },
   {
    "duration": 151,
    "start_time": "2024-11-02T03:20:30.229Z"
   },
   {
    "duration": 9,
    "start_time": "2024-11-02T03:20:56.846Z"
   },
   {
    "duration": 8,
    "start_time": "2024-11-02T03:20:57.527Z"
   },
   {
    "duration": 8,
    "start_time": "2024-11-02T03:21:37.745Z"
   },
   {
    "duration": 9,
    "start_time": "2024-11-02T03:21:37.941Z"
   },
   {
    "duration": 5,
    "start_time": "2024-11-02T03:23:21.313Z"
   },
   {
    "duration": 5,
    "start_time": "2024-11-02T03:23:24.447Z"
   },
   {
    "duration": 8,
    "start_time": "2024-11-02T03:23:33.376Z"
   },
   {
    "duration": 7,
    "start_time": "2024-11-02T03:24:20.079Z"
   },
   {
    "duration": 8,
    "start_time": "2024-11-02T03:24:20.599Z"
   },
   {
    "duration": 9,
    "start_time": "2024-11-02T03:24:33.585Z"
   },
   {
    "duration": 431,
    "start_time": "2024-11-02T03:38:52.904Z"
   },
   {
    "duration": 5,
    "start_time": "2024-11-02T03:42:16.880Z"
   },
   {
    "duration": 6,
    "start_time": "2024-11-02T03:42:22.934Z"
   },
   {
    "duration": 4,
    "start_time": "2024-11-02T03:42:41.894Z"
   },
   {
    "duration": 5,
    "start_time": "2024-11-02T03:42:42.736Z"
   },
   {
    "duration": 10,
    "start_time": "2024-11-02T03:48:35.579Z"
   },
   {
    "duration": 7,
    "start_time": "2024-11-02T03:49:44.708Z"
   },
   {
    "duration": 6,
    "start_time": "2024-11-02T03:49:45.155Z"
   },
   {
    "duration": 18,
    "start_time": "2024-11-02T03:50:04.572Z"
   },
   {
    "duration": 15,
    "start_time": "2024-11-02T03:50:49.927Z"
   },
   {
    "duration": 4,
    "start_time": "2024-11-02T03:50:56.422Z"
   },
   {
    "duration": 4,
    "start_time": "2024-11-02T03:50:58.304Z"
   },
   {
    "duration": 8,
    "start_time": "2024-11-02T03:51:16.109Z"
   },
   {
    "duration": 6,
    "start_time": "2024-11-02T03:51:16.476Z"
   },
   {
    "duration": 5,
    "start_time": "2024-11-02T04:01:29.062Z"
   },
   {
    "duration": 6,
    "start_time": "2024-11-02T04:01:29.452Z"
   },
   {
    "duration": 4,
    "start_time": "2024-11-02T04:01:54.349Z"
   },
   {
    "duration": 4,
    "start_time": "2024-11-02T04:02:02.653Z"
   },
   {
    "duration": 4,
    "start_time": "2024-11-02T04:02:07.181Z"
   },
   {
    "duration": 6,
    "start_time": "2024-11-02T04:02:50.614Z"
   },
   {
    "duration": 4,
    "start_time": "2024-11-02T04:02:51.285Z"
   },
   {
    "duration": 15,
    "start_time": "2024-11-02T04:03:00.574Z"
   },
   {
    "duration": 8,
    "start_time": "2024-11-02T04:05:48.633Z"
   },
   {
    "duration": 7,
    "start_time": "2024-11-02T04:05:56.038Z"
   },
   {
    "duration": 9,
    "start_time": "2024-11-02T04:06:20.580Z"
   },
   {
    "duration": 10,
    "start_time": "2024-11-02T04:06:20.930Z"
   },
   {
    "duration": 276,
    "start_time": "2024-11-02T04:07:29.363Z"
   },
   {
    "duration": 374,
    "start_time": "2024-11-02T04:08:09.306Z"
   },
   {
    "duration": 9,
    "start_time": "2024-11-02T04:11:32.213Z"
   },
   {
    "duration": 301,
    "start_time": "2024-11-02T04:11:32.604Z"
   },
   {
    "duration": 290,
    "start_time": "2024-11-02T04:11:59.592Z"
   },
   {
    "duration": 5,
    "start_time": "2024-11-02T04:12:15.645Z"
   },
   {
    "duration": 286,
    "start_time": "2024-11-02T04:12:38.758Z"
   },
   {
    "duration": 272,
    "start_time": "2024-11-02T04:13:38.723Z"
   },
   {
    "duration": 294,
    "start_time": "2024-11-02T04:13:46.999Z"
   },
   {
    "duration": 11,
    "start_time": "2024-11-02T04:15:02.487Z"
   },
   {
    "duration": 389,
    "start_time": "2024-11-02T04:15:02.896Z"
   },
   {
    "duration": 300,
    "start_time": "2024-11-02T04:15:15.808Z"
   },
   {
    "duration": 317,
    "start_time": "2024-11-02T04:16:52.752Z"
   },
   {
    "duration": 4,
    "start_time": "2024-11-02T04:16:53.872Z"
   },
   {
    "duration": 305,
    "start_time": "2024-11-02T04:17:48.650Z"
   },
   {
    "duration": 303,
    "start_time": "2024-11-02T04:17:58.918Z"
   },
   {
    "duration": 324,
    "start_time": "2024-11-02T04:18:31.130Z"
   },
   {
    "duration": 447,
    "start_time": "2024-11-02T04:19:00.268Z"
   },
   {
    "duration": 3,
    "start_time": "2024-11-02T04:19:00.717Z"
   },
   {
    "duration": 440,
    "start_time": "2024-11-02T04:19:10.739Z"
   },
   {
    "duration": 298,
    "start_time": "2024-11-02T04:19:24.432Z"
   },
   {
    "duration": 327,
    "start_time": "2024-11-02T04:19:42.958Z"
   },
   {
    "duration": 11,
    "start_time": "2024-11-02T05:02:57.804Z"
   },
   {
    "duration": 2603,
    "start_time": "2024-11-02T15:51:56.363Z"
   },
   {
    "duration": 35,
    "start_time": "2024-11-02T15:51:58.968Z"
   },
   {
    "duration": 14,
    "start_time": "2024-11-02T15:51:59.005Z"
   },
   {
    "duration": 19,
    "start_time": "2024-11-02T15:51:59.021Z"
   },
   {
    "duration": 4,
    "start_time": "2024-11-02T15:51:59.043Z"
   },
   {
    "duration": 5,
    "start_time": "2024-11-02T15:51:59.050Z"
   },
   {
    "duration": 4,
    "start_time": "2024-11-02T15:51:59.057Z"
   },
   {
    "duration": 7,
    "start_time": "2024-11-02T15:51:59.062Z"
   },
   {
    "duration": 3,
    "start_time": "2024-11-02T15:51:59.070Z"
   },
   {
    "duration": 7,
    "start_time": "2024-11-02T15:51:59.075Z"
   },
   {
    "duration": 45,
    "start_time": "2024-11-02T15:51:59.083Z"
   },
   {
    "duration": 179,
    "start_time": "2024-11-02T15:51:59.130Z"
   },
   {
    "duration": 16,
    "start_time": "2024-11-02T15:51:59.311Z"
   },
   {
    "duration": 328,
    "start_time": "2024-11-02T15:51:59.330Z"
   },
   {
    "duration": 24,
    "start_time": "2024-11-02T16:01:01.869Z"
   },
   {
    "duration": 13,
    "start_time": "2024-11-02T16:01:26.922Z"
   },
   {
    "duration": 5,
    "start_time": "2024-11-02T16:01:56.115Z"
   },
   {
    "duration": 13,
    "start_time": "2024-11-02T16:02:01.430Z"
   },
   {
    "duration": 5,
    "start_time": "2024-11-02T16:02:11.346Z"
   },
   {
    "duration": 5,
    "start_time": "2024-11-02T16:02:26.730Z"
   },
   {
    "duration": 4,
    "start_time": "2024-11-02T16:02:37.395Z"
   },
   {
    "duration": 5,
    "start_time": "2024-11-02T16:04:13.751Z"
   },
   {
    "duration": 2,
    "start_time": "2024-11-02T16:04:35.422Z"
   },
   {
    "duration": 4,
    "start_time": "2024-11-02T16:04:39.766Z"
   },
   {
    "duration": 5,
    "start_time": "2024-11-02T16:05:02.916Z"
   },
   {
    "duration": 5,
    "start_time": "2024-11-02T16:05:07.084Z"
   },
   {
    "duration": 5,
    "start_time": "2024-11-02T16:06:03.480Z"
   },
   {
    "duration": 6,
    "start_time": "2024-11-02T16:06:04.317Z"
   },
   {
    "duration": 6,
    "start_time": "2024-11-02T16:06:28.667Z"
   },
   {
    "duration": 24,
    "start_time": "2024-11-02T16:08:46.625Z"
   },
   {
    "duration": 140,
    "start_time": "2024-11-02T16:12:32.889Z"
   },
   {
    "duration": 15,
    "start_time": "2024-11-02T16:17:14.839Z"
   },
   {
    "duration": 9,
    "start_time": "2024-11-02T16:17:20.462Z"
   },
   {
    "duration": 15,
    "start_time": "2024-11-02T16:17:33.587Z"
   },
   {
    "duration": 13,
    "start_time": "2024-11-02T16:17:45.895Z"
   },
   {
    "duration": 15,
    "start_time": "2024-11-02T16:18:02.416Z"
   },
   {
    "duration": 195,
    "start_time": "2024-11-02T16:19:48.091Z"
   },
   {
    "duration": 11,
    "start_time": "2024-11-02T16:21:13.290Z"
   },
   {
    "duration": 4,
    "start_time": "2024-11-02T16:21:23.721Z"
   },
   {
    "duration": 9,
    "start_time": "2024-11-02T16:21:56.050Z"
   },
   {
    "duration": 10,
    "start_time": "2024-11-02T16:22:03.498Z"
   },
   {
    "duration": 9,
    "start_time": "2024-11-02T16:22:35.972Z"
   },
   {
    "duration": 17,
    "start_time": "2024-11-02T16:22:50.480Z"
   },
   {
    "duration": 11,
    "start_time": "2024-11-02T16:23:01.915Z"
   },
   {
    "duration": 10,
    "start_time": "2024-11-02T16:23:03.860Z"
   },
   {
    "duration": 15,
    "start_time": "2024-11-02T16:23:11.155Z"
   },
   {
    "duration": 4,
    "start_time": "2024-11-02T16:23:21.188Z"
   },
   {
    "duration": 3,
    "start_time": "2024-11-02T16:29:32.904Z"
   },
   {
    "duration": 4,
    "start_time": "2024-11-02T16:29:38.912Z"
   },
   {
    "duration": 13,
    "start_time": "2024-11-02T16:29:42.336Z"
   },
   {
    "duration": 4,
    "start_time": "2024-11-02T16:31:20.020Z"
   },
   {
    "duration": 10,
    "start_time": "2024-11-02T16:31:20.426Z"
   },
   {
    "duration": 14,
    "start_time": "2024-11-02T18:13:26.188Z"
   },
   {
    "duration": 559,
    "start_time": "2024-11-02T18:13:26.597Z"
   },
   {
    "duration": 11,
    "start_time": "2024-11-02T18:14:06.363Z"
   },
   {
    "duration": 624,
    "start_time": "2024-11-02T18:14:06.622Z"
   },
   {
    "duration": 11,
    "start_time": "2024-11-02T18:14:31.151Z"
   },
   {
    "duration": 971,
    "start_time": "2024-11-02T18:14:31.489Z"
   },
   {
    "duration": 12,
    "start_time": "2024-11-02T18:14:50.463Z"
   },
   {
    "duration": 455,
    "start_time": "2024-11-02T18:14:50.742Z"
   },
   {
    "duration": 2519,
    "start_time": "2024-11-03T16:37:58.981Z"
   },
   {
    "duration": 35,
    "start_time": "2024-11-03T16:38:01.502Z"
   },
   {
    "duration": 25,
    "start_time": "2024-11-03T16:38:01.538Z"
   },
   {
    "duration": 19,
    "start_time": "2024-11-03T16:38:01.566Z"
   },
   {
    "duration": 3,
    "start_time": "2024-11-03T16:38:01.587Z"
   },
   {
    "duration": 6,
    "start_time": "2024-11-03T16:38:01.591Z"
   },
   {
    "duration": 28,
    "start_time": "2024-11-03T16:38:01.598Z"
   },
   {
    "duration": 6,
    "start_time": "2024-11-03T16:38:01.628Z"
   },
   {
    "duration": 4,
    "start_time": "2024-11-03T16:38:01.635Z"
   },
   {
    "duration": 6,
    "start_time": "2024-11-03T16:38:01.641Z"
   },
   {
    "duration": 8,
    "start_time": "2024-11-03T16:38:01.649Z"
   },
   {
    "duration": 191,
    "start_time": "2024-11-03T16:38:01.659Z"
   },
   {
    "duration": 10,
    "start_time": "2024-11-03T16:38:01.852Z"
   },
   {
    "duration": 470,
    "start_time": "2024-11-03T16:38:01.864Z"
   },
   {
    "duration": 12,
    "start_time": "2024-11-03T16:38:02.335Z"
   },
   {
    "duration": 4,
    "start_time": "2024-11-03T16:38:02.348Z"
   },
   {
    "duration": 9,
    "start_time": "2024-11-03T16:38:02.353Z"
   },
   {
    "duration": 849,
    "start_time": "2024-11-03T16:38:11.240Z"
   },
   {
    "duration": 22,
    "start_time": "2024-11-03T16:38:12.091Z"
   },
   {
    "duration": 31,
    "start_time": "2024-11-03T16:38:12.115Z"
   },
   {
    "duration": 19,
    "start_time": "2024-11-03T16:38:12.148Z"
   },
   {
    "duration": 2,
    "start_time": "2024-11-03T16:38:12.169Z"
   },
   {
    "duration": 5,
    "start_time": "2024-11-03T16:38:12.173Z"
   },
   {
    "duration": 3,
    "start_time": "2024-11-03T16:38:12.181Z"
   },
   {
    "duration": 6,
    "start_time": "2024-11-03T16:38:12.186Z"
   },
   {
    "duration": 4,
    "start_time": "2024-11-03T16:38:12.461Z"
   },
   {
    "duration": 7,
    "start_time": "2024-11-03T16:38:12.467Z"
   },
   {
    "duration": 9,
    "start_time": "2024-11-03T16:38:12.475Z"
   },
   {
    "duration": 167,
    "start_time": "2024-11-03T16:38:12.486Z"
   },
   {
    "duration": 12,
    "start_time": "2024-11-03T16:38:12.655Z"
   },
   {
    "duration": 518,
    "start_time": "2024-11-03T16:38:12.668Z"
   },
   {
    "duration": 10,
    "start_time": "2024-11-03T16:38:13.188Z"
   },
   {
    "duration": 3,
    "start_time": "2024-11-03T16:38:13.199Z"
   },
   {
    "duration": 23,
    "start_time": "2024-11-03T16:38:13.203Z"
   },
   {
    "duration": 11,
    "start_time": "2024-11-03T16:38:20.538Z"
   },
   {
    "duration": 18,
    "start_time": "2024-11-03T16:38:34.678Z"
   },
   {
    "duration": 4,
    "start_time": "2024-11-03T16:41:27.672Z"
   },
   {
    "duration": 7,
    "start_time": "2024-11-03T16:41:35.579Z"
   },
   {
    "duration": 7,
    "start_time": "2024-11-03T16:41:57.376Z"
   },
   {
    "duration": 184,
    "start_time": "2024-11-03T16:42:19.799Z"
   },
   {
    "duration": 886,
    "start_time": "2024-11-03T16:43:15.847Z"
   },
   {
    "duration": 243,
    "start_time": "2024-11-03T16:43:28.009Z"
   },
   {
    "duration": 214,
    "start_time": "2024-11-03T16:43:51.921Z"
   },
   {
    "duration": 218,
    "start_time": "2024-11-03T16:43:55.093Z"
   },
   {
    "duration": 221,
    "start_time": "2024-11-03T16:44:29.134Z"
   },
   {
    "duration": 226,
    "start_time": "2024-11-03T16:44:49.132Z"
   },
   {
    "duration": 8,
    "start_time": "2024-11-03T16:45:07.539Z"
   },
   {
    "duration": 229,
    "start_time": "2024-11-03T16:45:18.607Z"
   },
   {
    "duration": 187,
    "start_time": "2024-11-03T16:55:08.102Z"
   },
   {
    "duration": 254,
    "start_time": "2024-11-03T16:55:53.728Z"
   },
   {
    "duration": 230,
    "start_time": "2024-11-03T16:56:14.949Z"
   },
   {
    "duration": 229,
    "start_time": "2024-11-03T16:56:31.507Z"
   },
   {
    "duration": 5,
    "start_time": "2024-11-03T16:56:49.635Z"
   },
   {
    "duration": 321,
    "start_time": "2024-11-03T16:56:56.334Z"
   },
   {
    "duration": 234,
    "start_time": "2024-11-03T16:57:49.133Z"
   },
   {
    "duration": 9,
    "start_time": "2024-11-03T17:04:51.021Z"
   },
   {
    "duration": 3,
    "start_time": "2024-11-03T17:04:52.409Z"
   },
   {
    "duration": 9,
    "start_time": "2024-11-03T17:04:52.836Z"
   },
   {
    "duration": 8,
    "start_time": "2024-11-03T17:05:04.954Z"
   },
   {
    "duration": 3,
    "start_time": "2024-11-03T17:05:06.458Z"
   },
   {
    "duration": 9,
    "start_time": "2024-11-03T17:05:07.860Z"
   },
   {
    "duration": 9,
    "start_time": "2024-11-03T17:05:12.800Z"
   },
   {
    "duration": 13,
    "start_time": "2024-11-03T17:05:45.437Z"
   },
   {
    "duration": 9,
    "start_time": "2024-11-03T17:05:46.247Z"
   },
   {
    "duration": 9,
    "start_time": "2024-11-03T17:05:52.286Z"
   },
   {
    "duration": 4,
    "start_time": "2024-11-03T17:05:52.778Z"
   },
   {
    "duration": 9,
    "start_time": "2024-11-03T17:05:53.275Z"
   },
   {
    "duration": 17,
    "start_time": "2024-11-03T17:06:43.442Z"
   },
   {
    "duration": 17,
    "start_time": "2024-11-03T17:09:48.933Z"
   },
   {
    "duration": 3,
    "start_time": "2024-11-03T17:09:50.524Z"
   },
   {
    "duration": 132,
    "start_time": "2024-11-03T17:14:51.994Z"
   },
   {
    "duration": 12,
    "start_time": "2024-11-03T17:17:17.571Z"
   },
   {
    "duration": 19,
    "start_time": "2024-11-03T17:17:26.891Z"
   },
   {
    "duration": 435,
    "start_time": "2024-11-03T17:19:26.473Z"
   },
   {
    "duration": 411,
    "start_time": "2024-11-03T17:20:07.577Z"
   },
   {
    "duration": 407,
    "start_time": "2024-11-03T17:20:19.078Z"
   },
   {
    "duration": 400,
    "start_time": "2024-11-03T17:20:49.888Z"
   },
   {
    "duration": 11,
    "start_time": "2024-11-03T17:29:08.655Z"
   },
   {
    "duration": 535,
    "start_time": "2024-11-03T17:29:09.399Z"
   },
   {
    "duration": 178,
    "start_time": "2024-11-03T17:31:53.738Z"
   },
   {
    "duration": 158,
    "start_time": "2024-11-03T17:32:09.271Z"
   },
   {
    "duration": 16,
    "start_time": "2024-11-03T17:35:23.789Z"
   },
   {
    "duration": 470,
    "start_time": "2024-11-03T17:35:30.224Z"
   },
   {
    "duration": 16,
    "start_time": "2024-11-03T17:36:12.637Z"
   },
   {
    "duration": 156,
    "start_time": "2024-11-03T17:36:20.756Z"
   },
   {
    "duration": 160,
    "start_time": "2024-11-03T17:36:38.483Z"
   },
   {
    "duration": 171,
    "start_time": "2024-11-03T17:36:51.502Z"
   },
   {
    "duration": 170,
    "start_time": "2024-11-03T17:37:05.667Z"
   },
   {
    "duration": 277,
    "start_time": "2024-11-03T17:37:28.022Z"
   },
   {
    "duration": 306,
    "start_time": "2024-11-03T17:37:44.080Z"
   },
   {
    "duration": 264,
    "start_time": "2024-11-03T17:38:11.639Z"
   },
   {
    "duration": 289,
    "start_time": "2024-11-03T17:44:56.449Z"
   },
   {
    "duration": 6,
    "start_time": "2024-11-03T17:51:29.177Z"
   },
   {
    "duration": 2467,
    "start_time": "2024-11-03T20:46:17.543Z"
   },
   {
    "duration": 35,
    "start_time": "2024-11-03T20:46:20.012Z"
   },
   {
    "duration": 12,
    "start_time": "2024-11-03T20:46:20.049Z"
   },
   {
    "duration": 22,
    "start_time": "2024-11-03T20:46:20.063Z"
   },
   {
    "duration": 2,
    "start_time": "2024-11-03T20:46:20.087Z"
   },
   {
    "duration": 7,
    "start_time": "2024-11-03T20:46:20.091Z"
   },
   {
    "duration": 4,
    "start_time": "2024-11-03T20:46:20.099Z"
   },
   {
    "duration": 5,
    "start_time": "2024-11-03T20:46:20.106Z"
   },
   {
    "duration": 3,
    "start_time": "2024-11-03T20:46:20.113Z"
   },
   {
    "duration": 6,
    "start_time": "2024-11-03T20:46:20.118Z"
   },
   {
    "duration": 47,
    "start_time": "2024-11-03T20:46:20.125Z"
   },
   {
    "duration": 181,
    "start_time": "2024-11-03T20:46:20.174Z"
   },
   {
    "duration": 245,
    "start_time": "2024-11-03T20:46:20.357Z"
   },
   {
    "duration": 12,
    "start_time": "2024-11-03T20:46:20.605Z"
   },
   {
    "duration": 626,
    "start_time": "2024-11-03T20:46:20.619Z"
   },
   {
    "duration": 440,
    "start_time": "2024-11-03T20:46:21.246Z"
   },
   {
    "duration": 257,
    "start_time": "2024-11-03T20:46:21.688Z"
   },
   {
    "duration": 384,
    "start_time": "2024-11-03T20:46:51.769Z"
   },
   {
    "duration": 388,
    "start_time": "2024-11-03T20:47:36.985Z"
   },
   {
    "duration": 394,
    "start_time": "2024-11-03T20:48:06.873Z"
   },
   {
    "duration": 380,
    "start_time": "2024-11-03T20:48:28.896Z"
   },
   {
    "duration": 221,
    "start_time": "2024-11-03T20:49:23.904Z"
   },
   {
    "duration": 17,
    "start_time": "2024-11-03T20:50:06.819Z"
   },
   {
    "duration": 323,
    "start_time": "2024-11-03T20:50:54.914Z"
   },
   {
    "duration": 381,
    "start_time": "2024-11-03T20:51:08.682Z"
   },
   {
    "duration": 385,
    "start_time": "2024-11-03T20:52:13.459Z"
   },
   {
    "duration": 13,
    "start_time": "2024-11-03T20:55:51.850Z"
   },
   {
    "duration": 315,
    "start_time": "2024-11-03T20:58:10.927Z"
   },
   {
    "duration": 317,
    "start_time": "2024-11-03T20:58:27.430Z"
   },
   {
    "duration": 304,
    "start_time": "2024-11-03T20:58:38.047Z"
   },
   {
    "duration": 4,
    "start_time": "2024-11-03T21:00:29.440Z"
   },
   {
    "duration": 5,
    "start_time": "2024-11-03T21:00:48.825Z"
   },
   {
    "duration": 10,
    "start_time": "2024-11-03T21:00:55.213Z"
   },
   {
    "duration": 472,
    "start_time": "2024-11-03T21:02:03.299Z"
   },
   {
    "duration": 67,
    "start_time": "2024-11-03T21:02:54.499Z"
   },
   {
    "duration": 10,
    "start_time": "2024-11-03T21:03:12.075Z"
   },
   {
    "duration": 5,
    "start_time": "2024-11-03T21:04:07.227Z"
   },
   {
    "duration": 11,
    "start_time": "2024-11-03T21:04:07.867Z"
   },
   {
    "duration": 4,
    "start_time": "2024-11-03T21:04:23.885Z"
   },
   {
    "duration": 11,
    "start_time": "2024-11-03T21:04:28.868Z"
   },
   {
    "duration": 165,
    "start_time": "2024-11-03T21:09:40.090Z"
   },
   {
    "duration": 296,
    "start_time": "2024-11-03T21:10:46.202Z"
   },
   {
    "duration": 351,
    "start_time": "2024-11-03T21:11:43.497Z"
   },
   {
    "duration": 508,
    "start_time": "2024-11-03T21:11:58.620Z"
   },
   {
    "duration": 407,
    "start_time": "2024-11-03T21:12:14.905Z"
   },
   {
    "duration": 378,
    "start_time": "2024-11-03T21:12:22.506Z"
   },
   {
    "duration": 333,
    "start_time": "2024-11-03T21:12:27.547Z"
   },
   {
    "duration": 6,
    "start_time": "2024-11-03T21:12:37.267Z"
   },
   {
    "duration": 4,
    "start_time": "2024-11-03T21:12:45.794Z"
   },
   {
    "duration": 5,
    "start_time": "2024-11-03T21:12:51.202Z"
   },
   {
    "duration": 6,
    "start_time": "2024-11-03T21:12:52.137Z"
   },
   {
    "duration": 4,
    "start_time": "2024-11-03T21:12:58.124Z"
   },
   {
    "duration": 340,
    "start_time": "2024-11-03T21:13:08.259Z"
   },
   {
    "duration": 5,
    "start_time": "2024-11-03T21:13:11.698Z"
   },
   {
    "duration": 4,
    "start_time": "2024-11-03T21:13:14.554Z"
   },
   {
    "duration": 5,
    "start_time": "2024-11-03T21:13:20.310Z"
   },
   {
    "duration": 4,
    "start_time": "2024-11-03T21:13:24.431Z"
   },
   {
    "duration": 4,
    "start_time": "2024-11-03T21:13:27.891Z"
   },
   {
    "duration": 424,
    "start_time": "2024-11-03T21:13:44.716Z"
   },
   {
    "duration": 4,
    "start_time": "2024-11-03T21:14:43.731Z"
   },
   {
    "duration": 11,
    "start_time": "2024-11-03T21:14:50.836Z"
   },
   {
    "duration": 6,
    "start_time": "2024-11-03T21:15:13.451Z"
   },
   {
    "duration": 10,
    "start_time": "2024-11-03T21:15:16.253Z"
   },
   {
    "duration": 5,
    "start_time": "2024-11-03T21:22:39.612Z"
   },
   {
    "duration": 17,
    "start_time": "2024-11-03T21:22:47.394Z"
   },
   {
    "duration": 114,
    "start_time": "2024-11-03T21:23:39.747Z"
   },
   {
    "duration": 11,
    "start_time": "2024-11-03T21:26:15.349Z"
   },
   {
    "duration": 126,
    "start_time": "2024-11-03T21:26:41.669Z"
   },
   {
    "duration": 116,
    "start_time": "2024-11-03T21:27:43.358Z"
   },
   {
    "duration": 120,
    "start_time": "2024-11-03T21:28:40.911Z"
   },
   {
    "duration": 113,
    "start_time": "2024-11-03T21:28:41.513Z"
   },
   {
    "duration": 117,
    "start_time": "2024-11-03T21:29:08.264Z"
   },
   {
    "duration": 110,
    "start_time": "2024-11-03T21:29:13.608Z"
   },
   {
    "duration": 125,
    "start_time": "2024-11-03T21:33:10.156Z"
   },
   {
    "duration": 119,
    "start_time": "2024-11-03T21:33:15.357Z"
   },
   {
    "duration": 4,
    "start_time": "2024-11-03T21:34:24.052Z"
   },
   {
    "duration": 4,
    "start_time": "2024-11-03T21:34:35.571Z"
   },
   {
    "duration": 3,
    "start_time": "2024-11-03T21:34:51.004Z"
   },
   {
    "duration": 23,
    "start_time": "2024-11-03T21:47:52.712Z"
   },
   {
    "duration": 11,
    "start_time": "2024-11-03T22:07:40.343Z"
   },
   {
    "duration": 19,
    "start_time": "2024-11-03T22:07:46.311Z"
   },
   {
    "duration": 2231,
    "start_time": "2024-11-03T22:07:56.344Z"
   },
   {
    "duration": 21,
    "start_time": "2024-11-03T22:08:04.097Z"
   },
   {
    "duration": 17,
    "start_time": "2024-11-03T22:08:35.624Z"
   },
   {
    "duration": 2512,
    "start_time": "2024-11-04T02:00:02.296Z"
   },
   {
    "duration": 605,
    "start_time": "2024-11-04T02:00:04.812Z"
   },
   {
    "duration": 0,
    "start_time": "2024-11-04T02:00:05.420Z"
   },
   {
    "duration": 0,
    "start_time": "2024-11-04T02:00:05.421Z"
   },
   {
    "duration": 0,
    "start_time": "2024-11-04T02:00:05.423Z"
   },
   {
    "duration": 0,
    "start_time": "2024-11-04T02:00:05.424Z"
   },
   {
    "duration": 0,
    "start_time": "2024-11-04T02:00:05.426Z"
   },
   {
    "duration": 1,
    "start_time": "2024-11-04T02:00:05.427Z"
   },
   {
    "duration": 0,
    "start_time": "2024-11-04T02:00:05.429Z"
   },
   {
    "duration": 0,
    "start_time": "2024-11-04T02:00:05.430Z"
   },
   {
    "duration": 0,
    "start_time": "2024-11-04T02:00:05.431Z"
   },
   {
    "duration": 0,
    "start_time": "2024-11-04T02:00:05.432Z"
   },
   {
    "duration": 0,
    "start_time": "2024-11-04T02:00:05.433Z"
   },
   {
    "duration": 0,
    "start_time": "2024-11-04T02:00:05.434Z"
   },
   {
    "duration": 0,
    "start_time": "2024-11-04T02:00:05.435Z"
   },
   {
    "duration": 0,
    "start_time": "2024-11-04T02:00:05.440Z"
   },
   {
    "duration": 0,
    "start_time": "2024-11-04T02:00:05.440Z"
   },
   {
    "duration": 0,
    "start_time": "2024-11-04T02:00:05.441Z"
   },
   {
    "duration": 0,
    "start_time": "2024-11-04T02:00:05.443Z"
   },
   {
    "duration": 0,
    "start_time": "2024-11-04T02:00:05.444Z"
   },
   {
    "duration": 0,
    "start_time": "2024-11-04T02:00:05.445Z"
   },
   {
    "duration": 0,
    "start_time": "2024-11-04T02:00:05.446Z"
   },
   {
    "duration": 0,
    "start_time": "2024-11-04T02:00:05.447Z"
   },
   {
    "duration": 3,
    "start_time": "2024-11-04T02:00:33.504Z"
   },
   {
    "duration": 66,
    "start_time": "2024-11-04T02:00:34.448Z"
   },
   {
    "duration": 758,
    "start_time": "2024-11-04T02:01:02.381Z"
   },
   {
    "duration": 573,
    "start_time": "2024-11-04T02:01:03.142Z"
   },
   {
    "duration": 0,
    "start_time": "2024-11-04T02:01:03.718Z"
   },
   {
    "duration": 0,
    "start_time": "2024-11-04T02:01:03.720Z"
   },
   {
    "duration": 0,
    "start_time": "2024-11-04T02:01:03.721Z"
   },
   {
    "duration": 0,
    "start_time": "2024-11-04T02:01:03.722Z"
   },
   {
    "duration": 1,
    "start_time": "2024-11-04T02:01:03.723Z"
   },
   {
    "duration": 0,
    "start_time": "2024-11-04T02:01:03.725Z"
   },
   {
    "duration": 0,
    "start_time": "2024-11-04T02:01:03.726Z"
   },
   {
    "duration": 0,
    "start_time": "2024-11-04T02:01:03.727Z"
   },
   {
    "duration": 0,
    "start_time": "2024-11-04T02:01:03.729Z"
   },
   {
    "duration": 0,
    "start_time": "2024-11-04T02:01:03.730Z"
   },
   {
    "duration": 0,
    "start_time": "2024-11-04T02:01:03.731Z"
   },
   {
    "duration": 0,
    "start_time": "2024-11-04T02:01:03.732Z"
   },
   {
    "duration": 0,
    "start_time": "2024-11-04T02:01:03.734Z"
   },
   {
    "duration": 0,
    "start_time": "2024-11-04T02:01:03.735Z"
   },
   {
    "duration": 0,
    "start_time": "2024-11-04T02:01:03.736Z"
   },
   {
    "duration": 0,
    "start_time": "2024-11-04T02:01:03.737Z"
   },
   {
    "duration": 0,
    "start_time": "2024-11-04T02:01:03.738Z"
   },
   {
    "duration": 0,
    "start_time": "2024-11-04T02:01:03.739Z"
   },
   {
    "duration": 0,
    "start_time": "2024-11-04T02:01:03.740Z"
   },
   {
    "duration": 0,
    "start_time": "2024-11-04T02:01:03.741Z"
   },
   {
    "duration": 0,
    "start_time": "2024-11-04T02:01:03.742Z"
   },
   {
    "duration": 58,
    "start_time": "2024-11-04T02:03:21.432Z"
   },
   {
    "duration": 2548,
    "start_time": "2024-11-04T15:43:49.348Z"
   },
   {
    "duration": 34,
    "start_time": "2024-11-04T15:43:51.898Z"
   },
   {
    "duration": 14,
    "start_time": "2024-11-04T15:43:51.933Z"
   },
   {
    "duration": 28,
    "start_time": "2024-11-04T15:43:51.949Z"
   },
   {
    "duration": 3,
    "start_time": "2024-11-04T15:43:51.979Z"
   },
   {
    "duration": 6,
    "start_time": "2024-11-04T15:43:51.984Z"
   },
   {
    "duration": 3,
    "start_time": "2024-11-04T15:43:51.992Z"
   },
   {
    "duration": 6,
    "start_time": "2024-11-04T15:43:51.997Z"
   },
   {
    "duration": 4,
    "start_time": "2024-11-04T15:43:52.005Z"
   },
   {
    "duration": 7,
    "start_time": "2024-11-04T15:43:52.013Z"
   },
   {
    "duration": 51,
    "start_time": "2024-11-04T15:43:52.021Z"
   },
   {
    "duration": 199,
    "start_time": "2024-11-04T15:43:52.074Z"
   },
   {
    "duration": 247,
    "start_time": "2024-11-04T15:43:52.274Z"
   },
   {
    "duration": 12,
    "start_time": "2024-11-04T15:43:52.523Z"
   },
   {
    "duration": 619,
    "start_time": "2024-11-04T15:43:52.539Z"
   },
   {
    "duration": 255,
    "start_time": "2024-11-04T15:43:53.160Z"
   },
   {
    "duration": 0,
    "start_time": "2024-11-04T15:43:53.417Z"
   },
   {
    "duration": 0,
    "start_time": "2024-11-04T15:43:53.418Z"
   },
   {
    "duration": 0,
    "start_time": "2024-11-04T15:43:53.419Z"
   },
   {
    "duration": 0,
    "start_time": "2024-11-04T15:43:53.421Z"
   },
   {
    "duration": 0,
    "start_time": "2024-11-04T15:43:53.423Z"
   },
   {
    "duration": 0,
    "start_time": "2024-11-04T15:43:53.424Z"
   },
   {
    "duration": 0,
    "start_time": "2024-11-04T15:43:53.426Z"
   },
   {
    "duration": 11,
    "start_time": "2024-11-04T15:44:03.800Z"
   },
   {
    "duration": 466,
    "start_time": "2024-11-04T15:45:22.112Z"
   },
   {
    "duration": 12,
    "start_time": "2024-11-04T15:46:18.200Z"
   },
   {
    "duration": 588,
    "start_time": "2024-11-04T15:46:21.819Z"
   },
   {
    "duration": 12,
    "start_time": "2024-11-04T15:47:05.752Z"
   },
   {
    "duration": 643,
    "start_time": "2024-11-04T15:47:06.948Z"
   },
   {
    "duration": 322,
    "start_time": "2024-11-04T15:47:20.616Z"
   },
   {
    "duration": 120,
    "start_time": "2024-11-04T15:47:42.014Z"
   },
   {
    "duration": 119,
    "start_time": "2024-11-04T15:47:46.016Z"
   },
   {
    "duration": 3,
    "start_time": "2024-11-04T15:47:49.659Z"
   },
   {
    "duration": 3,
    "start_time": "2024-11-04T15:47:50.361Z"
   },
   {
    "duration": 2271,
    "start_time": "2024-11-04T15:47:52.192Z"
   },
   {
    "duration": 20,
    "start_time": "2024-11-04T15:47:54.465Z"
   },
   {
    "duration": 4,
    "start_time": "2024-11-04T15:59:00.832Z"
   },
   {
    "duration": 4,
    "start_time": "2024-11-04T15:59:07.718Z"
   },
   {
    "duration": 6,
    "start_time": "2024-11-04T16:00:24.322Z"
   },
   {
    "duration": 5,
    "start_time": "2024-11-04T16:00:31.065Z"
   },
   {
    "duration": 7,
    "start_time": "2024-11-04T16:00:52.171Z"
   },
   {
    "duration": 4,
    "start_time": "2024-11-04T16:00:55.219Z"
   },
   {
    "duration": 6,
    "start_time": "2024-11-04T16:01:06.907Z"
   },
   {
    "duration": 5,
    "start_time": "2024-11-04T16:01:07.843Z"
   },
   {
    "duration": 7,
    "start_time": "2024-11-04T16:02:14.084Z"
   },
   {
    "duration": 13,
    "start_time": "2024-11-04T16:02:22.919Z"
   },
   {
    "duration": 4,
    "start_time": "2024-11-04T16:02:30.587Z"
   },
   {
    "duration": 18,
    "start_time": "2024-11-04T16:08:07.823Z"
   },
   {
    "duration": 129,
    "start_time": "2024-11-04T16:08:13.828Z"
   },
   {
    "duration": 251,
    "start_time": "2024-11-04T16:08:53.281Z"
   },
   {
    "duration": 158,
    "start_time": "2024-11-04T16:09:02.457Z"
   },
   {
    "duration": 183,
    "start_time": "2024-11-04T16:10:05.658Z"
   },
   {
    "duration": 5,
    "start_time": "2024-11-04T16:10:46.954Z"
   },
   {
    "duration": 163,
    "start_time": "2024-11-04T16:11:01.012Z"
   },
   {
    "duration": 169,
    "start_time": "2024-11-04T16:11:51.107Z"
   },
   {
    "duration": 18,
    "start_time": "2024-11-04T16:12:24.155Z"
   },
   {
    "duration": 170,
    "start_time": "2024-11-04T16:12:31.523Z"
   },
   {
    "duration": 169,
    "start_time": "2024-11-04T16:12:58.739Z"
   },
   {
    "duration": 112,
    "start_time": "2024-11-04T16:27:55.639Z"
   },
   {
    "duration": 144,
    "start_time": "2024-11-04T16:28:00.823Z"
   },
   {
    "duration": 53,
    "start_time": "2024-11-04T16:28:18.505Z"
   },
   {
    "duration": 18,
    "start_time": "2024-11-04T16:28:37.631Z"
   },
   {
    "duration": 16,
    "start_time": "2024-11-04T16:29:12.098Z"
   },
   {
    "duration": 5,
    "start_time": "2024-11-04T16:29:19.688Z"
   },
   {
    "duration": 7,
    "start_time": "2024-11-04T16:29:26.919Z"
   },
   {
    "duration": 8,
    "start_time": "2024-11-04T16:30:13.465Z"
   },
   {
    "duration": 4,
    "start_time": "2024-11-04T16:30:54.985Z"
   },
   {
    "duration": 91,
    "start_time": "2024-11-04T16:33:40.645Z"
   },
   {
    "duration": 93,
    "start_time": "2024-11-04T16:35:55.928Z"
   },
   {
    "duration": 106,
    "start_time": "2024-11-04T16:36:25.821Z"
   },
   {
    "duration": 113,
    "start_time": "2024-11-04T16:36:48.264Z"
   },
   {
    "duration": 112,
    "start_time": "2024-11-04T16:37:03.871Z"
   },
   {
    "duration": 192,
    "start_time": "2024-11-04T16:37:10.481Z"
   },
   {
    "duration": 288,
    "start_time": "2024-11-04T16:37:15.196Z"
   },
   {
    "duration": 386,
    "start_time": "2024-11-04T16:37:19.666Z"
   },
   {
    "duration": 332,
    "start_time": "2024-11-04T16:38:04.204Z"
   },
   {
    "duration": 97,
    "start_time": "2024-11-04T16:40:34.968Z"
   },
   {
    "duration": 204,
    "start_time": "2024-11-04T16:40:49.593Z"
   },
   {
    "duration": 105,
    "start_time": "2024-11-04T16:43:14.008Z"
   },
   {
    "duration": 79,
    "start_time": "2024-11-04T16:43:48.522Z"
   },
   {
    "duration": 312,
    "start_time": "2024-11-04T16:43:54.179Z"
   },
   {
    "duration": 212,
    "start_time": "2024-11-04T16:44:11.203Z"
   },
   {
    "duration": 439,
    "start_time": "2024-11-04T16:44:19.571Z"
   },
   {
    "duration": 397,
    "start_time": "2024-11-04T16:44:50.344Z"
   },
   {
    "duration": 270,
    "start_time": "2024-11-04T16:45:07.965Z"
   },
   {
    "duration": 271,
    "start_time": "2024-11-04T16:45:27.779Z"
   },
   {
    "duration": 81,
    "start_time": "2024-11-04T16:45:54.734Z"
   },
   {
    "duration": 376,
    "start_time": "2024-11-04T16:46:05.973Z"
   },
   {
    "duration": 274,
    "start_time": "2024-11-04T16:46:16.639Z"
   },
   {
    "duration": 4,
    "start_time": "2024-11-04T16:46:26.408Z"
   },
   {
    "duration": 263,
    "start_time": "2024-11-04T16:46:28.550Z"
   },
   {
    "duration": 110,
    "start_time": "2024-11-04T16:48:26.632Z"
   },
   {
    "duration": 267,
    "start_time": "2024-11-04T16:49:10.320Z"
   },
   {
    "duration": 396,
    "start_time": "2024-11-04T16:49:25.779Z"
   },
   {
    "duration": 266,
    "start_time": "2024-11-04T16:49:35.408Z"
   },
   {
    "duration": 275,
    "start_time": "2024-11-04T16:49:51.695Z"
   },
   {
    "duration": 278,
    "start_time": "2024-11-04T16:49:58.111Z"
   },
   {
    "duration": 370,
    "start_time": "2024-11-04T16:50:17.443Z"
   },
   {
    "duration": 273,
    "start_time": "2024-11-04T16:50:26.256Z"
   },
   {
    "duration": 8,
    "start_time": "2024-11-04T16:57:39.862Z"
   },
   {
    "duration": 4,
    "start_time": "2024-11-04T16:57:55.406Z"
   },
   {
    "duration": 5,
    "start_time": "2024-11-04T16:58:34.959Z"
   },
   {
    "duration": 394,
    "start_time": "2024-11-04T17:03:53.596Z"
   },
   {
    "duration": 270,
    "start_time": "2024-11-04T17:04:23.963Z"
   },
   {
    "duration": 271,
    "start_time": "2024-11-04T17:05:44.819Z"
   },
   {
    "duration": 270,
    "start_time": "2024-11-04T17:06:56.090Z"
   },
   {
    "duration": 274,
    "start_time": "2024-11-04T17:28:00.487Z"
   },
   {
    "duration": 2616,
    "start_time": "2024-11-05T15:58:15.481Z"
   },
   {
    "duration": 37,
    "start_time": "2024-11-05T15:58:18.099Z"
   },
   {
    "duration": 15,
    "start_time": "2024-11-05T15:58:18.139Z"
   },
   {
    "duration": 18,
    "start_time": "2024-11-05T15:58:18.156Z"
   },
   {
    "duration": 2,
    "start_time": "2024-11-05T15:58:18.177Z"
   },
   {
    "duration": 6,
    "start_time": "2024-11-05T15:58:18.181Z"
   },
   {
    "duration": 4,
    "start_time": "2024-11-05T15:58:18.188Z"
   },
   {
    "duration": 39,
    "start_time": "2024-11-05T15:58:18.193Z"
   },
   {
    "duration": 4,
    "start_time": "2024-11-05T15:58:18.234Z"
   },
   {
    "duration": 8,
    "start_time": "2024-11-05T15:58:18.240Z"
   },
   {
    "duration": 10,
    "start_time": "2024-11-05T15:58:18.250Z"
   },
   {
    "duration": 201,
    "start_time": "2024-11-05T15:58:18.261Z"
   },
   {
    "duration": 258,
    "start_time": "2024-11-05T15:58:18.464Z"
   },
   {
    "duration": 14,
    "start_time": "2024-11-05T15:58:18.730Z"
   },
   {
    "duration": 636,
    "start_time": "2024-11-05T15:58:18.745Z"
   },
   {
    "duration": 469,
    "start_time": "2024-11-05T15:58:19.383Z"
   },
   {
    "duration": 334,
    "start_time": "2024-11-05T15:58:19.854Z"
   },
   {
    "duration": 130,
    "start_time": "2024-11-05T15:58:20.190Z"
   },
   {
    "duration": 143,
    "start_time": "2024-11-05T15:58:20.322Z"
   },
   {
    "duration": 4,
    "start_time": "2024-11-05T15:58:20.467Z"
   },
   {
    "duration": 3,
    "start_time": "2024-11-05T15:58:20.473Z"
   },
   {
    "duration": 192,
    "start_time": "2024-11-05T15:58:20.478Z"
   },
   {
    "duration": 9,
    "start_time": "2024-11-05T15:58:20.673Z"
   },
   {
    "duration": 299,
    "start_time": "2024-11-05T15:58:20.683Z"
   },
   {
    "duration": 9,
    "start_time": "2024-11-05T15:58:20.984Z"
   },
   {
    "duration": 401,
    "start_time": "2024-11-05T15:58:20.995Z"
   },
   {
    "duration": 298,
    "start_time": "2024-11-05T15:59:45.118Z"
   },
   {
    "duration": 326,
    "start_time": "2024-11-05T15:59:53.083Z"
   },
   {
    "duration": 448,
    "start_time": "2024-11-05T16:00:16.869Z"
   },
   {
    "duration": 380,
    "start_time": "2024-11-05T16:00:51.700Z"
   },
   {
    "duration": 432,
    "start_time": "2024-11-05T16:01:05.071Z"
   },
   {
    "duration": 336,
    "start_time": "2024-11-05T16:01:12.610Z"
   },
   {
    "duration": 810,
    "start_time": "2024-11-05T16:01:46.388Z"
   },
   {
    "duration": 127,
    "start_time": "2024-11-05T16:02:12.565Z"
   },
   {
    "duration": 124,
    "start_time": "2024-11-05T16:02:18.270Z"
   },
   {
    "duration": 258,
    "start_time": "2024-11-05T16:02:28.502Z"
   },
   {
    "duration": 163,
    "start_time": "2024-11-05T16:02:36.312Z"
   },
   {
    "duration": 254,
    "start_time": "2024-11-05T16:04:34.897Z"
   },
   {
    "duration": 291,
    "start_time": "2024-11-05T16:04:39.727Z"
   },
   {
    "duration": 4,
    "start_time": "2024-11-05T16:06:47.858Z"
   },
   {
    "duration": 14,
    "start_time": "2024-11-05T16:06:53.572Z"
   },
   {
    "duration": 4,
    "start_time": "2024-11-05T16:07:00.137Z"
   },
   {
    "duration": 4,
    "start_time": "2024-11-05T16:08:26.145Z"
   },
   {
    "duration": 4,
    "start_time": "2024-11-05T16:08:26.740Z"
   },
   {
    "duration": 5,
    "start_time": "2024-11-05T16:08:36.922Z"
   },
   {
    "duration": 4,
    "start_time": "2024-11-05T16:08:38.209Z"
   },
   {
    "duration": 5,
    "start_time": "2024-11-05T16:09:36.978Z"
   },
   {
    "duration": 4,
    "start_time": "2024-11-05T16:09:37.618Z"
   },
   {
    "duration": 4,
    "start_time": "2024-11-05T16:09:46.584Z"
   },
   {
    "duration": 4,
    "start_time": "2024-11-05T16:09:47.314Z"
   },
   {
    "duration": 6,
    "start_time": "2024-11-05T16:10:01.636Z"
   },
   {
    "duration": 5,
    "start_time": "2024-11-05T16:10:01.970Z"
   },
   {
    "duration": 13,
    "start_time": "2024-11-05T16:10:23.356Z"
   },
   {
    "duration": 9,
    "start_time": "2024-11-05T16:10:29.038Z"
   },
   {
    "duration": 5,
    "start_time": "2024-11-05T16:10:29.317Z"
   },
   {
    "duration": 311,
    "start_time": "2024-11-05T16:11:59.114Z"
   },
   {
    "duration": 20,
    "start_time": "2024-11-05T16:14:10.686Z"
   },
   {
    "duration": 15,
    "start_time": "2024-11-05T16:16:27.466Z"
   },
   {
    "duration": 14,
    "start_time": "2024-11-05T16:16:35.341Z"
   },
   {
    "duration": 13,
    "start_time": "2024-11-05T16:16:48.951Z"
   },
   {
    "duration": 379,
    "start_time": "2024-11-05T16:17:15.896Z"
   },
   {
    "duration": 14,
    "start_time": "2024-11-05T16:17:30.897Z"
   },
   {
    "duration": 374,
    "start_time": "2024-11-05T16:17:33.066Z"
   },
   {
    "duration": 6,
    "start_time": "2024-11-05T16:18:07.162Z"
   },
   {
    "duration": 5,
    "start_time": "2024-11-05T16:18:47.283Z"
   },
   {
    "duration": 511,
    "start_time": "2024-11-05T16:19:27.314Z"
   },
   {
    "duration": 369,
    "start_time": "2024-11-05T16:19:37.253Z"
   },
   {
    "duration": 213,
    "start_time": "2024-11-05T16:19:58.100Z"
   },
   {
    "duration": 133,
    "start_time": "2024-11-05T16:20:07.701Z"
   },
   {
    "duration": 377,
    "start_time": "2024-11-05T16:20:30.596Z"
   },
   {
    "duration": 476,
    "start_time": "2024-11-05T16:22:29.821Z"
   },
   {
    "duration": 209,
    "start_time": "2024-11-05T16:25:49.799Z"
   },
   {
    "duration": 181,
    "start_time": "2024-11-05T16:25:56.455Z"
   },
   {
    "duration": 119,
    "start_time": "2024-11-05T16:26:01.439Z"
   },
   {
    "duration": 117,
    "start_time": "2024-11-05T16:26:16.334Z"
   },
   {
    "duration": 438,
    "start_time": "2024-11-05T16:27:50.314Z"
   },
   {
    "duration": 609,
    "start_time": "2024-11-05T16:28:34.122Z"
   },
   {
    "duration": 485,
    "start_time": "2024-11-05T16:28:40.857Z"
   },
   {
    "duration": 454,
    "start_time": "2024-11-05T16:28:56.793Z"
   },
   {
    "duration": 310,
    "start_time": "2024-11-05T16:35:17.097Z"
   },
   {
    "duration": 310,
    "start_time": "2024-11-05T16:35:30.931Z"
   },
   {
    "duration": 333,
    "start_time": "2024-11-05T16:35:35.541Z"
   },
   {
    "duration": 323,
    "start_time": "2024-11-05T16:35:43.614Z"
   },
   {
    "duration": 478,
    "start_time": "2024-11-05T16:35:49.062Z"
   },
   {
    "duration": 310,
    "start_time": "2024-11-05T16:35:55.375Z"
   },
   {
    "duration": 6,
    "start_time": "2024-11-05T17:24:32.038Z"
   },
   {
    "duration": 4,
    "start_time": "2024-11-05T17:24:48.718Z"
   },
   {
    "duration": 24,
    "start_time": "2024-11-05T17:26:39.110Z"
   },
   {
    "duration": 11,
    "start_time": "2024-11-05T17:26:54.065Z"
   },
   {
    "duration": 3115,
    "start_time": "2024-11-05T22:12:22.647Z"
   },
   {
    "duration": 34,
    "start_time": "2024-11-05T22:12:25.765Z"
   },
   {
    "duration": 13,
    "start_time": "2024-11-05T22:12:25.802Z"
   },
   {
    "duration": 25,
    "start_time": "2024-11-05T22:12:25.818Z"
   },
   {
    "duration": 3,
    "start_time": "2024-11-05T22:12:25.846Z"
   },
   {
    "duration": 7,
    "start_time": "2024-11-05T22:12:25.851Z"
   },
   {
    "duration": 4,
    "start_time": "2024-11-05T22:12:25.860Z"
   },
   {
    "duration": 7,
    "start_time": "2024-11-05T22:12:25.866Z"
   },
   {
    "duration": 3,
    "start_time": "2024-11-05T22:12:25.875Z"
   },
   {
    "duration": 6,
    "start_time": "2024-11-05T22:12:25.879Z"
   },
   {
    "duration": 43,
    "start_time": "2024-11-05T22:12:25.887Z"
   },
   {
    "duration": 199,
    "start_time": "2024-11-05T22:12:25.932Z"
   },
   {
    "duration": 287,
    "start_time": "2024-11-05T22:12:26.133Z"
   },
   {
    "duration": 16,
    "start_time": "2024-11-05T22:12:26.424Z"
   },
   {
    "duration": 706,
    "start_time": "2024-11-05T22:12:26.442Z"
   },
   {
    "duration": 523,
    "start_time": "2024-11-05T22:12:27.150Z"
   },
   {
    "duration": 404,
    "start_time": "2024-11-05T22:12:27.674Z"
   },
   {
    "duration": 136,
    "start_time": "2024-11-05T22:12:28.080Z"
   },
   {
    "duration": 138,
    "start_time": "2024-11-05T22:12:28.224Z"
   },
   {
    "duration": 5,
    "start_time": "2024-11-05T22:12:28.366Z"
   },
   {
    "duration": 4,
    "start_time": "2024-11-05T22:12:28.374Z"
   },
   {
    "duration": 211,
    "start_time": "2024-11-05T22:12:28.379Z"
   },
   {
    "duration": 8,
    "start_time": "2024-11-05T22:12:28.592Z"
   },
   {
    "duration": 359,
    "start_time": "2024-11-05T22:12:28.601Z"
   },
   {
    "duration": 11,
    "start_time": "2024-11-05T22:12:28.962Z"
   },
   {
    "duration": 411,
    "start_time": "2024-11-05T22:12:28.974Z"
   },
   {
    "duration": 16,
    "start_time": "2024-11-05T22:12:29.387Z"
   },
   {
    "duration": 373,
    "start_time": "2024-11-05T22:12:29.405Z"
   },
   {
    "duration": 6,
    "start_time": "2024-11-05T22:12:29.780Z"
   },
   {
    "duration": 4,
    "start_time": "2024-11-05T22:13:44.391Z"
   },
   {
    "duration": 4,
    "start_time": "2024-11-05T22:14:00.578Z"
   },
   {
    "duration": 15,
    "start_time": "2024-11-05T22:14:18.021Z"
   },
   {
    "duration": 5,
    "start_time": "2024-11-05T22:15:14.918Z"
   },
   {
    "duration": 8,
    "start_time": "2024-11-05T22:15:23.607Z"
   },
   {
    "duration": 8,
    "start_time": "2024-11-05T22:17:07.591Z"
   },
   {
    "duration": 8,
    "start_time": "2024-11-05T22:26:05.359Z"
   },
   {
    "duration": 19,
    "start_time": "2024-11-05T22:26:15.501Z"
   },
   {
    "duration": 11,
    "start_time": "2024-11-05T22:27:15.831Z"
   },
   {
    "duration": 9,
    "start_time": "2024-11-05T22:28:14.680Z"
   },
   {
    "duration": 12,
    "start_time": "2024-11-05T22:28:24.859Z"
   },
   {
    "duration": 264,
    "start_time": "2024-11-05T22:44:20.088Z"
   },
   {
    "duration": 25,
    "start_time": "2024-11-05T22:44:33.956Z"
   },
   {
    "duration": 19,
    "start_time": "2024-11-05T22:44:51.692Z"
   },
   {
    "duration": 25,
    "start_time": "2024-11-05T22:45:01.432Z"
   },
   {
    "duration": 9,
    "start_time": "2024-11-05T22:45:09.305Z"
   },
   {
    "duration": 8,
    "start_time": "2024-11-05T22:45:18.092Z"
   },
   {
    "duration": 26,
    "start_time": "2024-11-05T22:46:27.021Z"
   },
   {
    "duration": 27,
    "start_time": "2024-11-05T22:46:51.750Z"
   },
   {
    "duration": 8,
    "start_time": "2024-11-05T22:46:59.182Z"
   },
   {
    "duration": 8,
    "start_time": "2024-11-05T22:47:14.783Z"
   },
   {
    "duration": 10,
    "start_time": "2024-11-05T22:47:26.535Z"
   },
   {
    "duration": 15,
    "start_time": "2024-11-05T22:47:44.431Z"
   },
   {
    "duration": 8,
    "start_time": "2024-11-05T22:55:08.477Z"
   },
   {
    "duration": 19,
    "start_time": "2024-11-05T22:56:27.264Z"
   },
   {
    "duration": 7,
    "start_time": "2024-11-05T22:56:37.669Z"
   },
   {
    "duration": 18,
    "start_time": "2024-11-05T23:02:49.251Z"
   },
   {
    "duration": 14,
    "start_time": "2024-11-05T23:03:04.778Z"
   },
   {
    "duration": 14,
    "start_time": "2024-11-05T23:03:07.801Z"
   },
   {
    "duration": 5,
    "start_time": "2024-11-05T23:03:10.363Z"
   },
   {
    "duration": 4,
    "start_time": "2024-11-05T23:03:17.211Z"
   },
   {
    "duration": 4,
    "start_time": "2024-11-05T23:04:14.925Z"
   },
   {
    "duration": 5,
    "start_time": "2024-11-05T23:04:26.291Z"
   },
   {
    "duration": 5,
    "start_time": "2024-11-05T23:06:07.734Z"
   },
   {
    "duration": 11,
    "start_time": "2024-11-05T23:06:53.734Z"
   },
   {
    "duration": 8,
    "start_time": "2024-11-05T23:07:04.582Z"
   },
   {
    "duration": 11,
    "start_time": "2024-11-05T23:07:09.221Z"
   },
   {
    "duration": 6,
    "start_time": "2024-11-05T23:16:02.968Z"
   },
   {
    "duration": 5,
    "start_time": "2024-11-05T23:16:13.878Z"
   },
   {
    "duration": 4,
    "start_time": "2024-11-05T23:16:57.880Z"
   },
   {
    "duration": 10,
    "start_time": "2024-11-05T23:18:00.457Z"
   },
   {
    "duration": 10,
    "start_time": "2024-11-05T23:19:01.530Z"
   },
   {
    "duration": 13,
    "start_time": "2024-11-05T23:21:47.246Z"
   },
   {
    "duration": 11,
    "start_time": "2024-11-05T23:22:03.870Z"
   },
   {
    "duration": 9,
    "start_time": "2024-11-05T23:27:43.903Z"
   },
   {
    "duration": 10,
    "start_time": "2024-11-05T23:30:54.740Z"
   },
   {
    "duration": 4,
    "start_time": "2024-11-05T23:31:42.381Z"
   },
   {
    "duration": 5,
    "start_time": "2024-11-05T23:31:59.731Z"
   },
   {
    "duration": 4,
    "start_time": "2024-11-05T23:32:16.987Z"
   },
   {
    "duration": 17,
    "start_time": "2024-11-05T23:33:13.990Z"
   },
   {
    "duration": 4,
    "start_time": "2024-11-05T23:33:55.365Z"
   },
   {
    "duration": 4,
    "start_time": "2024-11-05T23:36:13.512Z"
   },
   {
    "duration": 4,
    "start_time": "2024-11-05T23:36:41.915Z"
   },
   {
    "duration": 4,
    "start_time": "2024-11-05T23:44:41.206Z"
   },
   {
    "duration": 5,
    "start_time": "2024-11-05T23:45:35.846Z"
   },
   {
    "duration": 4,
    "start_time": "2024-11-05T23:45:49.030Z"
   },
   {
    "duration": 6,
    "start_time": "2024-11-05T23:45:56.918Z"
   },
   {
    "duration": 11,
    "start_time": "2024-11-06T00:12:29.285Z"
   },
   {
    "duration": 10,
    "start_time": "2024-11-06T00:12:47.197Z"
   },
   {
    "duration": 15,
    "start_time": "2024-11-06T00:13:27.321Z"
   },
   {
    "duration": 4,
    "start_time": "2024-11-06T00:14:00.209Z"
   },
   {
    "duration": 5,
    "start_time": "2024-11-06T00:14:31.005Z"
   },
   {
    "duration": 10,
    "start_time": "2024-11-06T00:15:16.663Z"
   },
   {
    "duration": 8,
    "start_time": "2024-11-06T00:15:28.912Z"
   },
   {
    "duration": 4,
    "start_time": "2024-11-06T00:15:36.407Z"
   },
   {
    "duration": 13,
    "start_time": "2024-11-06T00:16:06.064Z"
   },
   {
    "duration": 4,
    "start_time": "2024-11-06T00:17:05.206Z"
   },
   {
    "duration": 6,
    "start_time": "2024-11-06T00:17:44.465Z"
   },
   {
    "duration": 9,
    "start_time": "2024-11-06T00:18:33.672Z"
   },
   {
    "duration": 5,
    "start_time": "2024-11-06T00:18:51.690Z"
   },
   {
    "duration": 5,
    "start_time": "2024-11-06T00:20:40.335Z"
   },
   {
    "duration": 176,
    "start_time": "2024-12-15T17:41:49.080Z"
   },
   {
    "duration": 817,
    "start_time": "2024-12-31T17:38:13.395Z"
   },
   {
    "duration": 35,
    "start_time": "2024-12-31T17:38:14.531Z"
   },
   {
    "duration": 2550,
    "start_time": "2025-01-17T17:12:23.978Z"
   },
   {
    "duration": 36,
    "start_time": "2025-01-17T17:12:26.530Z"
   }
  ],
  "kernelspec": {
   "display_name": "Python [conda env:base] *",
   "language": "python",
   "name": "conda-base-py"
  },
  "language_info": {
   "codemirror_mode": {
    "name": "ipython",
    "version": 3
   },
   "file_extension": ".py",
   "mimetype": "text/x-python",
   "name": "python",
   "nbconvert_exporter": "python",
   "pygments_lexer": "ipython3",
   "version": "3.12.7"
  },
  "toc": {
   "base_numbering": 1,
   "nav_menu": {},
   "number_sections": true,
   "sideBar": true,
   "skip_h1_title": true,
   "title_cell": "Table of Contents",
   "title_sidebar": "Contents",
   "toc_cell": false,
   "toc_position": {},
   "toc_section_display": true,
   "toc_window_display": false
  }
 },
 "nbformat": 4,
 "nbformat_minor": 4
}
